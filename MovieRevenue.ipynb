{
 "cells": [
  {
   "cell_type": "markdown",
   "metadata": {},
   "source": [
    "# What Makes Movies Earn More Money?\n",
    "#### Stephanie Qie & Nikhil Pateel"
   ]
  },
  {
   "cell_type": "markdown",
   "metadata": {},
   "source": [
    "## Introduction\n",
    "\n",
    "Movies play an important role in today's popular culture and media, as they are one of the largest forms of entertainment and one of the most profitable industries in our society.\n",
    "\n",
    "From large movie studios to movie analysts, many people have tried to analyze what makes a movie earn more money.\n",
    "\n",
    "In this tutorial, we will ....\n"
   ]
  },
  {
   "cell_type": "markdown",
   "metadata": {},
   "source": [
    "## 0.0 - Required Libraries\n",
    "\n",
    "We will be using the following libraries\n",
    "+ `pandas` - For storing data\n",
    "+ `matplotlib` - For plotting data\n",
    "+ `sci-kit learn` - For data analysis"
   ]
  },
  {
   "cell_type": "code",
   "execution_count": 1,
   "metadata": {},
   "outputs": [],
   "source": [
    "import pandas as pd\n",
    "import matplotlib.pyplot as plt\n",
    "import seaborn as sns\n",
    "from sklearn import linear_model\n",
    "from sklearn import model_selection\n",
    "from statsmodels import api as sm\n",
    "import requests\n",
    "import numpy as np"
   ]
  },
  {
   "cell_type": "markdown",
   "metadata": {},
   "source": [
    "## 1.0 Dataset Source\n",
    "\n",
    "Our dataset comes from the following source\n",
    "+ [kaggle](https://www.kaggle.com/tmdb/tmdb-movie-metadata)"
   ]
  },
  {
   "cell_type": "markdown",
   "metadata": {},
   "source": [
    "## 1.1 Grabbing Data"
   ]
  },
  {
   "cell_type": "markdown",
   "metadata": {},
   "source": [
    "Load the .csv files which we downloaded from kaggle, and display the first few rows to have a general understanding of the data."
   ]
  },
  {
   "cell_type": "code",
   "execution_count": 2,
   "metadata": {},
   "outputs": [
    {
     "data": {
      "text/html": [
       "<div>\n",
       "<style scoped>\n",
       "    .dataframe tbody tr th:only-of-type {\n",
       "        vertical-align: middle;\n",
       "    }\n",
       "\n",
       "    .dataframe tbody tr th {\n",
       "        vertical-align: top;\n",
       "    }\n",
       "\n",
       "    .dataframe thead th {\n",
       "        text-align: right;\n",
       "    }\n",
       "</style>\n",
       "<table border=\"1\" class=\"dataframe\">\n",
       "  <thead>\n",
       "    <tr style=\"text-align: right;\">\n",
       "      <th></th>\n",
       "      <th>budget</th>\n",
       "      <th>genres</th>\n",
       "      <th>homepage</th>\n",
       "      <th>id</th>\n",
       "      <th>keywords</th>\n",
       "      <th>original_language</th>\n",
       "      <th>original_title</th>\n",
       "      <th>overview</th>\n",
       "      <th>popularity</th>\n",
       "      <th>production_companies</th>\n",
       "      <th>production_countries</th>\n",
       "      <th>release_date</th>\n",
       "      <th>revenue</th>\n",
       "      <th>runtime</th>\n",
       "      <th>spoken_languages</th>\n",
       "      <th>status</th>\n",
       "      <th>tagline</th>\n",
       "      <th>title</th>\n",
       "      <th>vote_average</th>\n",
       "      <th>vote_count</th>\n",
       "    </tr>\n",
       "  </thead>\n",
       "  <tbody>\n",
       "    <tr>\n",
       "      <th>0</th>\n",
       "      <td>237000000</td>\n",
       "      <td>[{\"id\": 28, \"name\": \"Action\"}, {\"id\": 12, \"nam...</td>\n",
       "      <td>http://www.avatarmovie.com/</td>\n",
       "      <td>19995</td>\n",
       "      <td>[{\"id\": 1463, \"name\": \"culture clash\"}, {\"id\":...</td>\n",
       "      <td>en</td>\n",
       "      <td>Avatar</td>\n",
       "      <td>In the 22nd century, a paraplegic Marine is di...</td>\n",
       "      <td>150.437577</td>\n",
       "      <td>[{\"name\": \"Ingenious Film Partners\", \"id\": 289...</td>\n",
       "      <td>[{\"iso_3166_1\": \"US\", \"name\": \"United States o...</td>\n",
       "      <td>2009-12-10</td>\n",
       "      <td>2787965087</td>\n",
       "      <td>162.0</td>\n",
       "      <td>[{\"iso_639_1\": \"en\", \"name\": \"English\"}, {\"iso...</td>\n",
       "      <td>Released</td>\n",
       "      <td>Enter the World of Pandora.</td>\n",
       "      <td>Avatar</td>\n",
       "      <td>7.2</td>\n",
       "      <td>11800</td>\n",
       "    </tr>\n",
       "    <tr>\n",
       "      <th>1</th>\n",
       "      <td>300000000</td>\n",
       "      <td>[{\"id\": 12, \"name\": \"Adventure\"}, {\"id\": 14, \"...</td>\n",
       "      <td>http://disney.go.com/disneypictures/pirates/</td>\n",
       "      <td>285</td>\n",
       "      <td>[{\"id\": 270, \"name\": \"ocean\"}, {\"id\": 726, \"na...</td>\n",
       "      <td>en</td>\n",
       "      <td>Pirates of the Caribbean: At World's End</td>\n",
       "      <td>Captain Barbossa, long believed to be dead, ha...</td>\n",
       "      <td>139.082615</td>\n",
       "      <td>[{\"name\": \"Walt Disney Pictures\", \"id\": 2}, {\"...</td>\n",
       "      <td>[{\"iso_3166_1\": \"US\", \"name\": \"United States o...</td>\n",
       "      <td>2007-05-19</td>\n",
       "      <td>961000000</td>\n",
       "      <td>169.0</td>\n",
       "      <td>[{\"iso_639_1\": \"en\", \"name\": \"English\"}]</td>\n",
       "      <td>Released</td>\n",
       "      <td>At the end of the world, the adventure begins.</td>\n",
       "      <td>Pirates of the Caribbean: At World's End</td>\n",
       "      <td>6.9</td>\n",
       "      <td>4500</td>\n",
       "    </tr>\n",
       "    <tr>\n",
       "      <th>2</th>\n",
       "      <td>245000000</td>\n",
       "      <td>[{\"id\": 28, \"name\": \"Action\"}, {\"id\": 12, \"nam...</td>\n",
       "      <td>http://www.sonypictures.com/movies/spectre/</td>\n",
       "      <td>206647</td>\n",
       "      <td>[{\"id\": 470, \"name\": \"spy\"}, {\"id\": 818, \"name...</td>\n",
       "      <td>en</td>\n",
       "      <td>Spectre</td>\n",
       "      <td>A cryptic message from Bond’s past sends him o...</td>\n",
       "      <td>107.376788</td>\n",
       "      <td>[{\"name\": \"Columbia Pictures\", \"id\": 5}, {\"nam...</td>\n",
       "      <td>[{\"iso_3166_1\": \"GB\", \"name\": \"United Kingdom\"...</td>\n",
       "      <td>2015-10-26</td>\n",
       "      <td>880674609</td>\n",
       "      <td>148.0</td>\n",
       "      <td>[{\"iso_639_1\": \"fr\", \"name\": \"Fran\\u00e7ais\"},...</td>\n",
       "      <td>Released</td>\n",
       "      <td>A Plan No One Escapes</td>\n",
       "      <td>Spectre</td>\n",
       "      <td>6.3</td>\n",
       "      <td>4466</td>\n",
       "    </tr>\n",
       "    <tr>\n",
       "      <th>3</th>\n",
       "      <td>250000000</td>\n",
       "      <td>[{\"id\": 28, \"name\": \"Action\"}, {\"id\": 80, \"nam...</td>\n",
       "      <td>http://www.thedarkknightrises.com/</td>\n",
       "      <td>49026</td>\n",
       "      <td>[{\"id\": 849, \"name\": \"dc comics\"}, {\"id\": 853,...</td>\n",
       "      <td>en</td>\n",
       "      <td>The Dark Knight Rises</td>\n",
       "      <td>Following the death of District Attorney Harve...</td>\n",
       "      <td>112.312950</td>\n",
       "      <td>[{\"name\": \"Legendary Pictures\", \"id\": 923}, {\"...</td>\n",
       "      <td>[{\"iso_3166_1\": \"US\", \"name\": \"United States o...</td>\n",
       "      <td>2012-07-16</td>\n",
       "      <td>1084939099</td>\n",
       "      <td>165.0</td>\n",
       "      <td>[{\"iso_639_1\": \"en\", \"name\": \"English\"}]</td>\n",
       "      <td>Released</td>\n",
       "      <td>The Legend Ends</td>\n",
       "      <td>The Dark Knight Rises</td>\n",
       "      <td>7.6</td>\n",
       "      <td>9106</td>\n",
       "    </tr>\n",
       "    <tr>\n",
       "      <th>4</th>\n",
       "      <td>260000000</td>\n",
       "      <td>[{\"id\": 28, \"name\": \"Action\"}, {\"id\": 12, \"nam...</td>\n",
       "      <td>http://movies.disney.com/john-carter</td>\n",
       "      <td>49529</td>\n",
       "      <td>[{\"id\": 818, \"name\": \"based on novel\"}, {\"id\":...</td>\n",
       "      <td>en</td>\n",
       "      <td>John Carter</td>\n",
       "      <td>John Carter is a war-weary, former military ca...</td>\n",
       "      <td>43.926995</td>\n",
       "      <td>[{\"name\": \"Walt Disney Pictures\", \"id\": 2}]</td>\n",
       "      <td>[{\"iso_3166_1\": \"US\", \"name\": \"United States o...</td>\n",
       "      <td>2012-03-07</td>\n",
       "      <td>284139100</td>\n",
       "      <td>132.0</td>\n",
       "      <td>[{\"iso_639_1\": \"en\", \"name\": \"English\"}]</td>\n",
       "      <td>Released</td>\n",
       "      <td>Lost in our world, found in another.</td>\n",
       "      <td>John Carter</td>\n",
       "      <td>6.1</td>\n",
       "      <td>2124</td>\n",
       "    </tr>\n",
       "  </tbody>\n",
       "</table>\n",
       "</div>"
      ],
      "text/plain": [
       "      budget                                             genres  \\\n",
       "0  237000000  [{\"id\": 28, \"name\": \"Action\"}, {\"id\": 12, \"nam...   \n",
       "1  300000000  [{\"id\": 12, \"name\": \"Adventure\"}, {\"id\": 14, \"...   \n",
       "2  245000000  [{\"id\": 28, \"name\": \"Action\"}, {\"id\": 12, \"nam...   \n",
       "3  250000000  [{\"id\": 28, \"name\": \"Action\"}, {\"id\": 80, \"nam...   \n",
       "4  260000000  [{\"id\": 28, \"name\": \"Action\"}, {\"id\": 12, \"nam...   \n",
       "\n",
       "                                       homepage      id  \\\n",
       "0                   http://www.avatarmovie.com/   19995   \n",
       "1  http://disney.go.com/disneypictures/pirates/     285   \n",
       "2   http://www.sonypictures.com/movies/spectre/  206647   \n",
       "3            http://www.thedarkknightrises.com/   49026   \n",
       "4          http://movies.disney.com/john-carter   49529   \n",
       "\n",
       "                                            keywords original_language  \\\n",
       "0  [{\"id\": 1463, \"name\": \"culture clash\"}, {\"id\":...                en   \n",
       "1  [{\"id\": 270, \"name\": \"ocean\"}, {\"id\": 726, \"na...                en   \n",
       "2  [{\"id\": 470, \"name\": \"spy\"}, {\"id\": 818, \"name...                en   \n",
       "3  [{\"id\": 849, \"name\": \"dc comics\"}, {\"id\": 853,...                en   \n",
       "4  [{\"id\": 818, \"name\": \"based on novel\"}, {\"id\":...                en   \n",
       "\n",
       "                             original_title  \\\n",
       "0                                    Avatar   \n",
       "1  Pirates of the Caribbean: At World's End   \n",
       "2                                   Spectre   \n",
       "3                     The Dark Knight Rises   \n",
       "4                               John Carter   \n",
       "\n",
       "                                            overview  popularity  \\\n",
       "0  In the 22nd century, a paraplegic Marine is di...  150.437577   \n",
       "1  Captain Barbossa, long believed to be dead, ha...  139.082615   \n",
       "2  A cryptic message from Bond’s past sends him o...  107.376788   \n",
       "3  Following the death of District Attorney Harve...  112.312950   \n",
       "4  John Carter is a war-weary, former military ca...   43.926995   \n",
       "\n",
       "                                production_companies  \\\n",
       "0  [{\"name\": \"Ingenious Film Partners\", \"id\": 289...   \n",
       "1  [{\"name\": \"Walt Disney Pictures\", \"id\": 2}, {\"...   \n",
       "2  [{\"name\": \"Columbia Pictures\", \"id\": 5}, {\"nam...   \n",
       "3  [{\"name\": \"Legendary Pictures\", \"id\": 923}, {\"...   \n",
       "4        [{\"name\": \"Walt Disney Pictures\", \"id\": 2}]   \n",
       "\n",
       "                                production_countries release_date     revenue  \\\n",
       "0  [{\"iso_3166_1\": \"US\", \"name\": \"United States o...   2009-12-10  2787965087   \n",
       "1  [{\"iso_3166_1\": \"US\", \"name\": \"United States o...   2007-05-19   961000000   \n",
       "2  [{\"iso_3166_1\": \"GB\", \"name\": \"United Kingdom\"...   2015-10-26   880674609   \n",
       "3  [{\"iso_3166_1\": \"US\", \"name\": \"United States o...   2012-07-16  1084939099   \n",
       "4  [{\"iso_3166_1\": \"US\", \"name\": \"United States o...   2012-03-07   284139100   \n",
       "\n",
       "   runtime                                   spoken_languages    status  \\\n",
       "0    162.0  [{\"iso_639_1\": \"en\", \"name\": \"English\"}, {\"iso...  Released   \n",
       "1    169.0           [{\"iso_639_1\": \"en\", \"name\": \"English\"}]  Released   \n",
       "2    148.0  [{\"iso_639_1\": \"fr\", \"name\": \"Fran\\u00e7ais\"},...  Released   \n",
       "3    165.0           [{\"iso_639_1\": \"en\", \"name\": \"English\"}]  Released   \n",
       "4    132.0           [{\"iso_639_1\": \"en\", \"name\": \"English\"}]  Released   \n",
       "\n",
       "                                          tagline  \\\n",
       "0                     Enter the World of Pandora.   \n",
       "1  At the end of the world, the adventure begins.   \n",
       "2                           A Plan No One Escapes   \n",
       "3                                 The Legend Ends   \n",
       "4            Lost in our world, found in another.   \n",
       "\n",
       "                                      title  vote_average  vote_count  \n",
       "0                                    Avatar           7.2       11800  \n",
       "1  Pirates of the Caribbean: At World's End           6.9        4500  \n",
       "2                                   Spectre           6.3        4466  \n",
       "3                     The Dark Knight Rises           7.6        9106  \n",
       "4                               John Carter           6.1        2124  "
      ]
     },
     "metadata": {},
     "output_type": "display_data"
    },
    {
     "data": {
      "text/html": [
       "<div>\n",
       "<style scoped>\n",
       "    .dataframe tbody tr th:only-of-type {\n",
       "        vertical-align: middle;\n",
       "    }\n",
       "\n",
       "    .dataframe tbody tr th {\n",
       "        vertical-align: top;\n",
       "    }\n",
       "\n",
       "    .dataframe thead th {\n",
       "        text-align: right;\n",
       "    }\n",
       "</style>\n",
       "<table border=\"1\" class=\"dataframe\">\n",
       "  <thead>\n",
       "    <tr style=\"text-align: right;\">\n",
       "      <th></th>\n",
       "      <th>movie_id</th>\n",
       "      <th>title</th>\n",
       "      <th>cast</th>\n",
       "      <th>crew</th>\n",
       "    </tr>\n",
       "  </thead>\n",
       "  <tbody>\n",
       "    <tr>\n",
       "      <th>0</th>\n",
       "      <td>19995</td>\n",
       "      <td>Avatar</td>\n",
       "      <td>[{\"cast_id\": 242, \"character\": \"Jake Sully\", \"...</td>\n",
       "      <td>[{\"credit_id\": \"52fe48009251416c750aca23\", \"de...</td>\n",
       "    </tr>\n",
       "    <tr>\n",
       "      <th>1</th>\n",
       "      <td>285</td>\n",
       "      <td>Pirates of the Caribbean: At World's End</td>\n",
       "      <td>[{\"cast_id\": 4, \"character\": \"Captain Jack Spa...</td>\n",
       "      <td>[{\"credit_id\": \"52fe4232c3a36847f800b579\", \"de...</td>\n",
       "    </tr>\n",
       "    <tr>\n",
       "      <th>2</th>\n",
       "      <td>206647</td>\n",
       "      <td>Spectre</td>\n",
       "      <td>[{\"cast_id\": 1, \"character\": \"James Bond\", \"cr...</td>\n",
       "      <td>[{\"credit_id\": \"54805967c3a36829b5002c41\", \"de...</td>\n",
       "    </tr>\n",
       "    <tr>\n",
       "      <th>3</th>\n",
       "      <td>49026</td>\n",
       "      <td>The Dark Knight Rises</td>\n",
       "      <td>[{\"cast_id\": 2, \"character\": \"Bruce Wayne / Ba...</td>\n",
       "      <td>[{\"credit_id\": \"52fe4781c3a36847f81398c3\", \"de...</td>\n",
       "    </tr>\n",
       "    <tr>\n",
       "      <th>4</th>\n",
       "      <td>49529</td>\n",
       "      <td>John Carter</td>\n",
       "      <td>[{\"cast_id\": 5, \"character\": \"John Carter\", \"c...</td>\n",
       "      <td>[{\"credit_id\": \"52fe479ac3a36847f813eaa3\", \"de...</td>\n",
       "    </tr>\n",
       "  </tbody>\n",
       "</table>\n",
       "</div>"
      ],
      "text/plain": [
       "   movie_id                                     title  \\\n",
       "0     19995                                    Avatar   \n",
       "1       285  Pirates of the Caribbean: At World's End   \n",
       "2    206647                                   Spectre   \n",
       "3     49026                     The Dark Knight Rises   \n",
       "4     49529                               John Carter   \n",
       "\n",
       "                                                cast  \\\n",
       "0  [{\"cast_id\": 242, \"character\": \"Jake Sully\", \"...   \n",
       "1  [{\"cast_id\": 4, \"character\": \"Captain Jack Spa...   \n",
       "2  [{\"cast_id\": 1, \"character\": \"James Bond\", \"cr...   \n",
       "3  [{\"cast_id\": 2, \"character\": \"Bruce Wayne / Ba...   \n",
       "4  [{\"cast_id\": 5, \"character\": \"John Carter\", \"c...   \n",
       "\n",
       "                                                crew  \n",
       "0  [{\"credit_id\": \"52fe48009251416c750aca23\", \"de...  \n",
       "1  [{\"credit_id\": \"52fe4232c3a36847f800b579\", \"de...  \n",
       "2  [{\"credit_id\": \"54805967c3a36829b5002c41\", \"de...  \n",
       "3  [{\"credit_id\": \"52fe4781c3a36847f81398c3\", \"de...  \n",
       "4  [{\"credit_id\": \"52fe479ac3a36847f813eaa3\", \"de...  "
      ]
     },
     "metadata": {},
     "output_type": "display_data"
    }
   ],
   "source": [
    "df = pd.read_csv('tmdb_5000_movies.csv')\n",
    "cast = pd.read_csv('tmdb_5000_credits.csv')\n",
    "\n",
    "display(df.head())\n",
    "display(cast.head())"
   ]
  },
  {
   "cell_type": "markdown",
   "metadata": {},
   "source": [
    "## 1.3 Tidying Data"
   ]
  },
  {
   "cell_type": "markdown",
   "metadata": {},
   "source": [
    "Join the two tables by movie title, so that all of the data is in one table."
   ]
  },
  {
   "cell_type": "code",
   "execution_count": 3,
   "metadata": {},
   "outputs": [
    {
     "data": {
      "text/html": [
       "<div>\n",
       "<style scoped>\n",
       "    .dataframe tbody tr th:only-of-type {\n",
       "        vertical-align: middle;\n",
       "    }\n",
       "\n",
       "    .dataframe tbody tr th {\n",
       "        vertical-align: top;\n",
       "    }\n",
       "\n",
       "    .dataframe thead th {\n",
       "        text-align: right;\n",
       "    }\n",
       "</style>\n",
       "<table border=\"1\" class=\"dataframe\">\n",
       "  <thead>\n",
       "    <tr style=\"text-align: right;\">\n",
       "      <th></th>\n",
       "      <th>index</th>\n",
       "      <th>budget</th>\n",
       "      <th>genres</th>\n",
       "      <th>homepage</th>\n",
       "      <th>id</th>\n",
       "      <th>keywords</th>\n",
       "      <th>original_language</th>\n",
       "      <th>overview</th>\n",
       "      <th>popularity</th>\n",
       "      <th>production_companies</th>\n",
       "      <th>...</th>\n",
       "      <th>runtime</th>\n",
       "      <th>spoken_languages</th>\n",
       "      <th>status</th>\n",
       "      <th>tagline</th>\n",
       "      <th>title</th>\n",
       "      <th>vote_average</th>\n",
       "      <th>vote_count</th>\n",
       "      <th>movie_id</th>\n",
       "      <th>cast</th>\n",
       "      <th>crew</th>\n",
       "    </tr>\n",
       "  </thead>\n",
       "  <tbody>\n",
       "    <tr>\n",
       "      <th>0</th>\n",
       "      <td>#Horror</td>\n",
       "      <td>1500000</td>\n",
       "      <td>[{\"id\": 18, \"name\": \"Drama\"}, {\"id\": 9648, \"na...</td>\n",
       "      <td>http://www.hashtaghorror.com/</td>\n",
       "      <td>301325</td>\n",
       "      <td>[]</td>\n",
       "      <td>de</td>\n",
       "      <td>Inspired by actual events, a group of 12 year ...</td>\n",
       "      <td>2.815228</td>\n",
       "      <td>[{\"name\": \"AST Studios\", \"id\": 75277}, {\"name\"...</td>\n",
       "      <td>...</td>\n",
       "      <td>90.0</td>\n",
       "      <td>[{\"iso_639_1\": \"en\", \"name\": \"English\"}, {\"iso...</td>\n",
       "      <td>Released</td>\n",
       "      <td>Death is trending.</td>\n",
       "      <td>#Horror</td>\n",
       "      <td>3.3</td>\n",
       "      <td>52</td>\n",
       "      <td>301325.0</td>\n",
       "      <td>[{\"cast_id\": 0, \"character\": \"Alex's 12-Step F...</td>\n",
       "      <td>[{\"credit_id\": \"545bbac70e0a261fb6002329\", \"de...</td>\n",
       "    </tr>\n",
       "    <tr>\n",
       "      <th>1</th>\n",
       "      <td>$upercapitalist</td>\n",
       "      <td>0</td>\n",
       "      <td>[{\"id\": 53, \"name\": \"Thriller\"}]</td>\n",
       "      <td>http://supercapitalist.net/</td>\n",
       "      <td>119458</td>\n",
       "      <td>[]</td>\n",
       "      <td>en</td>\n",
       "      <td>A maverick New York hedge fund trader with unc...</td>\n",
       "      <td>0.174311</td>\n",
       "      <td>[]</td>\n",
       "      <td>...</td>\n",
       "      <td>103.0</td>\n",
       "      <td>[{\"iso_639_1\": \"en\", \"name\": \"English\"}]</td>\n",
       "      <td>Released</td>\n",
       "      <td>Money for Life</td>\n",
       "      <td>Supercapitalist</td>\n",
       "      <td>3.5</td>\n",
       "      <td>2</td>\n",
       "      <td>NaN</td>\n",
       "      <td>NaN</td>\n",
       "      <td>NaN</td>\n",
       "    </tr>\n",
       "    <tr>\n",
       "      <th>2</th>\n",
       "      <td>(500) Days of Summer</td>\n",
       "      <td>7500000</td>\n",
       "      <td>[{\"id\": 35, \"name\": \"Comedy\"}, {\"id\": 18, \"nam...</td>\n",
       "      <td>http://500days.com</td>\n",
       "      <td>19913</td>\n",
       "      <td>[{\"id\": 248, \"name\": \"date\"}, {\"id\": 572, \"nam...</td>\n",
       "      <td>en</td>\n",
       "      <td>Tom (Joseph Gordon-Levitt), greeting-card writ...</td>\n",
       "      <td>45.610993</td>\n",
       "      <td>[{\"name\": \"Fox Searchlight Pictures\", \"id\": 43...</td>\n",
       "      <td>...</td>\n",
       "      <td>95.0</td>\n",
       "      <td>[{\"iso_639_1\": \"en\", \"name\": \"English\"}, {\"iso...</td>\n",
       "      <td>Released</td>\n",
       "      <td>It was almost like falling in love.</td>\n",
       "      <td>(500) Days of Summer</td>\n",
       "      <td>7.2</td>\n",
       "      <td>2904</td>\n",
       "      <td>19913.0</td>\n",
       "      <td>[{\"cast_id\": 4, \"character\": \"Tom Hansen\", \"cr...</td>\n",
       "      <td>[{\"credit_id\": \"52fe47f99251416c750abaa5\", \"de...</td>\n",
       "    </tr>\n",
       "    <tr>\n",
       "      <th>3</th>\n",
       "      <td>...E tu vivrai nel terrore! L'aldilà</td>\n",
       "      <td>0</td>\n",
       "      <td>[{\"id\": 27, \"name\": \"Horror\"}]</td>\n",
       "      <td>NaN</td>\n",
       "      <td>19204</td>\n",
       "      <td>[{\"id\": 612, \"name\": \"hotel\"}, {\"id\": 1706, \"n...</td>\n",
       "      <td>it</td>\n",
       "      <td>A young woman inherits an old hotel in Louisia...</td>\n",
       "      <td>8.022122</td>\n",
       "      <td>[{\"name\": \"Fulvia Film\", \"id\": 13682}]</td>\n",
       "      <td>...</td>\n",
       "      <td>87.0</td>\n",
       "      <td>[{\"iso_639_1\": \"en\", \"name\": \"English\"}, {\"iso...</td>\n",
       "      <td>Released</td>\n",
       "      <td>The seven dreaded gateways to Hell are conceal...</td>\n",
       "      <td>The Beyond</td>\n",
       "      <td>6.6</td>\n",
       "      <td>117</td>\n",
       "      <td>NaN</td>\n",
       "      <td>NaN</td>\n",
       "      <td>NaN</td>\n",
       "    </tr>\n",
       "    <tr>\n",
       "      <th>4</th>\n",
       "      <td>10 Cloverfield Lane</td>\n",
       "      <td>15000000</td>\n",
       "      <td>[{\"id\": 53, \"name\": \"Thriller\"}, {\"id\": 878, \"...</td>\n",
       "      <td>http://www.10cloverfieldlane.com/</td>\n",
       "      <td>333371</td>\n",
       "      <td>[{\"id\": 1930, \"name\": \"kidnapping\"}, {\"id\": 23...</td>\n",
       "      <td>en</td>\n",
       "      <td>After a car accident, Michelle awakens to find...</td>\n",
       "      <td>53.698683</td>\n",
       "      <td>[{\"name\": \"Paramount Pictures\", \"id\": 4}, {\"na...</td>\n",
       "      <td>...</td>\n",
       "      <td>103.0</td>\n",
       "      <td>[{\"iso_639_1\": \"en\", \"name\": \"English\"}]</td>\n",
       "      <td>Released</td>\n",
       "      <td>Monsters come in many forms.</td>\n",
       "      <td>10 Cloverfield Lane</td>\n",
       "      <td>6.8</td>\n",
       "      <td>2468</td>\n",
       "      <td>333371.0</td>\n",
       "      <td>[{\"cast_id\": 2, \"character\": \"Michelle\", \"cred...</td>\n",
       "      <td>[{\"credit_id\": \"57627624c3a3680682000872\", \"de...</td>\n",
       "    </tr>\n",
       "  </tbody>\n",
       "</table>\n",
       "<p>5 rows × 23 columns</p>\n",
       "</div>"
      ],
      "text/plain": [
       "                                  index    budget  \\\n",
       "0                               #Horror   1500000   \n",
       "1                       $upercapitalist         0   \n",
       "2                  (500) Days of Summer   7500000   \n",
       "3  ...E tu vivrai nel terrore! L'aldilà         0   \n",
       "4                   10 Cloverfield Lane  15000000   \n",
       "\n",
       "                                              genres  \\\n",
       "0  [{\"id\": 18, \"name\": \"Drama\"}, {\"id\": 9648, \"na...   \n",
       "1                   [{\"id\": 53, \"name\": \"Thriller\"}]   \n",
       "2  [{\"id\": 35, \"name\": \"Comedy\"}, {\"id\": 18, \"nam...   \n",
       "3                     [{\"id\": 27, \"name\": \"Horror\"}]   \n",
       "4  [{\"id\": 53, \"name\": \"Thriller\"}, {\"id\": 878, \"...   \n",
       "\n",
       "                            homepage      id  \\\n",
       "0      http://www.hashtaghorror.com/  301325   \n",
       "1        http://supercapitalist.net/  119458   \n",
       "2                 http://500days.com   19913   \n",
       "3                                NaN   19204   \n",
       "4  http://www.10cloverfieldlane.com/  333371   \n",
       "\n",
       "                                            keywords original_language  \\\n",
       "0                                                 []                de   \n",
       "1                                                 []                en   \n",
       "2  [{\"id\": 248, \"name\": \"date\"}, {\"id\": 572, \"nam...                en   \n",
       "3  [{\"id\": 612, \"name\": \"hotel\"}, {\"id\": 1706, \"n...                it   \n",
       "4  [{\"id\": 1930, \"name\": \"kidnapping\"}, {\"id\": 23...                en   \n",
       "\n",
       "                                            overview  popularity  \\\n",
       "0  Inspired by actual events, a group of 12 year ...    2.815228   \n",
       "1  A maverick New York hedge fund trader with unc...    0.174311   \n",
       "2  Tom (Joseph Gordon-Levitt), greeting-card writ...   45.610993   \n",
       "3  A young woman inherits an old hotel in Louisia...    8.022122   \n",
       "4  After a car accident, Michelle awakens to find...   53.698683   \n",
       "\n",
       "                                production_companies  ... runtime  \\\n",
       "0  [{\"name\": \"AST Studios\", \"id\": 75277}, {\"name\"...  ...    90.0   \n",
       "1                                                 []  ...   103.0   \n",
       "2  [{\"name\": \"Fox Searchlight Pictures\", \"id\": 43...  ...    95.0   \n",
       "3             [{\"name\": \"Fulvia Film\", \"id\": 13682}]  ...    87.0   \n",
       "4  [{\"name\": \"Paramount Pictures\", \"id\": 4}, {\"na...  ...   103.0   \n",
       "\n",
       "                                    spoken_languages    status  \\\n",
       "0  [{\"iso_639_1\": \"en\", \"name\": \"English\"}, {\"iso...  Released   \n",
       "1           [{\"iso_639_1\": \"en\", \"name\": \"English\"}]  Released   \n",
       "2  [{\"iso_639_1\": \"en\", \"name\": \"English\"}, {\"iso...  Released   \n",
       "3  [{\"iso_639_1\": \"en\", \"name\": \"English\"}, {\"iso...  Released   \n",
       "4           [{\"iso_639_1\": \"en\", \"name\": \"English\"}]  Released   \n",
       "\n",
       "                                             tagline                 title  \\\n",
       "0                                 Death is trending.               #Horror   \n",
       "1                                     Money for Life       Supercapitalist   \n",
       "2                It was almost like falling in love.  (500) Days of Summer   \n",
       "3  The seven dreaded gateways to Hell are conceal...            The Beyond   \n",
       "4                       Monsters come in many forms.   10 Cloverfield Lane   \n",
       "\n",
       "  vote_average vote_count  movie_id  \\\n",
       "0          3.3         52  301325.0   \n",
       "1          3.5          2       NaN   \n",
       "2          7.2       2904   19913.0   \n",
       "3          6.6        117       NaN   \n",
       "4          6.8       2468  333371.0   \n",
       "\n",
       "                                                cast  \\\n",
       "0  [{\"cast_id\": 0, \"character\": \"Alex's 12-Step F...   \n",
       "1                                                NaN   \n",
       "2  [{\"cast_id\": 4, \"character\": \"Tom Hansen\", \"cr...   \n",
       "3                                                NaN   \n",
       "4  [{\"cast_id\": 2, \"character\": \"Michelle\", \"cred...   \n",
       "\n",
       "                                                crew  \n",
       "0  [{\"credit_id\": \"545bbac70e0a261fb6002329\", \"de...  \n",
       "1                                                NaN  \n",
       "2  [{\"credit_id\": \"52fe47f99251416c750abaa5\", \"de...  \n",
       "3                                                NaN  \n",
       "4  [{\"credit_id\": \"57627624c3a3680682000872\", \"de...  \n",
       "\n",
       "[5 rows x 23 columns]"
      ]
     },
     "metadata": {},
     "output_type": "display_data"
    }
   ],
   "source": [
    "df = df.set_index('original_title').join(cast.set_index('title'))\n",
    "df = df.reset_index()\n",
    "display(df.head())"
   ]
  },
  {
   "cell_type": "markdown",
   "metadata": {},
   "source": [
    "As seen in the table above, some of the columns (ie. genres, production companies, production countries, spoken languages, cast, and crew) have more than element per cell. We will be converting those cells into data structures to make it easier to access all of the data in those cells."
   ]
  },
  {
   "cell_type": "markdown",
   "metadata": {},
   "source": [
    "First we will modify the genres. As shown below, a movie can have multiple genres, and each genre contains an id and name. We will make it so that for each movie, all of their genres are stored in an array, and each genre element will be a dictionary with keys for its id and name."
   ]
  },
  {
   "cell_type": "code",
   "execution_count": 4,
   "metadata": {},
   "outputs": [
    {
     "data": {
      "text/plain": [
       "'[{\"id\": 18, \"name\": \"Drama\"}, {\"id\": 9648, \"name\": \"Mystery\"}, {\"id\": 27, \"name\": \"Horror\"}, {\"id\": 53, \"name\": \"Thriller\"}]'"
      ]
     },
     "execution_count": 4,
     "metadata": {},
     "output_type": "execute_result"
    }
   ],
   "source": [
    "df.iloc[0][\"genres\"]"
   ]
  },
  {
   "cell_type": "code",
   "execution_count": 5,
   "metadata": {},
   "outputs": [],
   "source": [
    "import re\n",
    "\n",
    "#go through each row\n",
    "for index, row in df.iterrows():\n",
    "    \n",
    "    genres = []\n",
    "    line = row[\"genres\"]\n",
    "    cur_genres = line.split('},')\n",
    "    \n",
    "    del cur_genres[-1]\n",
    "  \n",
    "    #transform info for each genre\n",
    "    for genre in cur_genres:\n",
    "        m = re.search(\"(\\d+), \\\"name\\\": \\\"(\\w+)\", genre)\n",
    "        cur_id = m.groups()[0]\n",
    "        cur_name = m.groups()[1]\n",
    "        \n",
    "        cur_info = {}\n",
    "        cur_info[\"id\"] = cur_id\n",
    "        cur_info[\"name\"] = cur_name\n",
    "        \n",
    "        genres.append(cur_info)\n",
    "        \n",
    "    df.at[index, \"genres\"] = genres"
   ]
  },
  {
   "cell_type": "markdown",
   "metadata": {},
   "source": [
    "Next we will modify the production companies. As shown below, a movie can have multiple production companies, and each production company has a name and id. We will make it so that for each movie, all of their production companies are stored in an array, and each production company element will be a dictionary with keys for its name and id."
   ]
  },
  {
   "cell_type": "code",
   "execution_count": 6,
   "metadata": {},
   "outputs": [
    {
     "data": {
      "text/plain": [
       "'[{\"name\": \"AST Studios\", \"id\": 75277}, {\"name\": \"Lowland Pictures\", \"id\": 75278}]'"
      ]
     },
     "execution_count": 6,
     "metadata": {},
     "output_type": "execute_result"
    }
   ],
   "source": [
    "df.iloc[0][\"production_companies\"]"
   ]
  },
  {
   "cell_type": "code",
   "execution_count": 7,
   "metadata": {},
   "outputs": [],
   "source": [
    "#go through each row\n",
    "for index, row in df.iterrows():\n",
    "    \n",
    "    p_comps = []\n",
    "    line = row[\"production_companies\"]\n",
    "    cur_p_comps = line.split('},')\n",
    "    \n",
    "    del cur_p_comps[-1]\n",
    "  \n",
    "    #transform info for each genre\n",
    "    for p_comp in cur_p_comps:\n",
    "        m = re.search(\"name\\\": \\\"(.+)\\\", \\\"id\\\": (\\d+)\", p_comp)\n",
    "        cur_name = m.groups()[0]\n",
    "        cur_id = m.groups()[1]\n",
    "        \n",
    "        cur_info = {}\n",
    "        cur_info[\"name\"] = cur_name\n",
    "        cur_info[\"id\"] = cur_id\n",
    "        \n",
    "        p_comps.append(cur_info)\n",
    "        \n",
    "    df.at[index, \"production_companies\"] = p_comps"
   ]
  },
  {
   "cell_type": "markdown",
   "metadata": {},
   "source": [
    "Now we will modify the production countries. As shown below, a movie can have multiple production countries, and each production country has an iso_3166_1 and a name."
   ]
  },
  {
   "cell_type": "code",
   "execution_count": 8,
   "metadata": {},
   "outputs": [
    {
     "data": {
      "text/plain": [
       "'[{\"iso_3166_1\": \"US\", \"name\": \"United States of America\"}]'"
      ]
     },
     "execution_count": 8,
     "metadata": {},
     "output_type": "execute_result"
    }
   ],
   "source": [
    "df.iloc[0][\"production_countries\"]"
   ]
  },
  {
   "cell_type": "code",
   "execution_count": 9,
   "metadata": {},
   "outputs": [],
   "source": [
    "#go through each row\n",
    "for index, row in df.iterrows():\n",
    "    \n",
    "    p_countries = []\n",
    "    line = row[\"production_countries\"]\n",
    "    cur_p_countries = line.split('},')\n",
    "    \n",
    "    del cur_p_countries[-1]\n",
    "  \n",
    "    #transform info for each genre\n",
    "    for p_country in cur_p_countries:\n",
    "        m = re.search(\"\\\"iso_3166_1\\\": \\\"(.+)\\\", \\\"name\\\": \\\"(.+)\\\"\", p_country)\n",
    "        cur_iso_3166_1 = m.groups()[0]\n",
    "        cur_name = m.groups()[1]\n",
    "        \n",
    "        cur_info = {}\n",
    "        cur_info[\"iso_3166_1\"] = cur_iso_3166_1\n",
    "        cur_info[\"name\"] = cur_name\n",
    "        \n",
    "        p_countries.append(cur_info)\n",
    "        \n",
    "    df.at[index, \"production_countries\"] = p_countries"
   ]
  },
  {
   "cell_type": "markdown",
   "metadata": {},
   "source": [
    "After this, we will modify the spoken languages. As shown below, a movie can have multiple spoken languages, and each spoken language has an iso_639_1 and a name."
   ]
  },
  {
   "cell_type": "code",
   "execution_count": 10,
   "metadata": {},
   "outputs": [
    {
     "data": {
      "text/plain": [
       "'[{\"iso_639_1\": \"en\", \"name\": \"English\"}, {\"iso_639_1\": \"es\", \"name\": \"Espa\\\\u00f1ol\"}]'"
      ]
     },
     "execution_count": 10,
     "metadata": {},
     "output_type": "execute_result"
    }
   ],
   "source": [
    "df.iloc[0][\"spoken_languages\"]"
   ]
  },
  {
   "cell_type": "code",
   "execution_count": 11,
   "metadata": {},
   "outputs": [
    {
     "data": {
      "text/html": [
       "<div>\n",
       "<style scoped>\n",
       "    .dataframe tbody tr th:only-of-type {\n",
       "        vertical-align: middle;\n",
       "    }\n",
       "\n",
       "    .dataframe tbody tr th {\n",
       "        vertical-align: top;\n",
       "    }\n",
       "\n",
       "    .dataframe thead th {\n",
       "        text-align: right;\n",
       "    }\n",
       "</style>\n",
       "<table border=\"1\" class=\"dataframe\">\n",
       "  <thead>\n",
       "    <tr style=\"text-align: right;\">\n",
       "      <th></th>\n",
       "      <th>index</th>\n",
       "      <th>budget</th>\n",
       "      <th>genres</th>\n",
       "      <th>homepage</th>\n",
       "      <th>id</th>\n",
       "      <th>keywords</th>\n",
       "      <th>original_language</th>\n",
       "      <th>overview</th>\n",
       "      <th>popularity</th>\n",
       "      <th>production_companies</th>\n",
       "      <th>...</th>\n",
       "      <th>runtime</th>\n",
       "      <th>spoken_languages</th>\n",
       "      <th>status</th>\n",
       "      <th>tagline</th>\n",
       "      <th>title</th>\n",
       "      <th>vote_average</th>\n",
       "      <th>vote_count</th>\n",
       "      <th>movie_id</th>\n",
       "      <th>cast</th>\n",
       "      <th>crew</th>\n",
       "    </tr>\n",
       "  </thead>\n",
       "  <tbody>\n",
       "    <tr>\n",
       "      <th>0</th>\n",
       "      <td>#Horror</td>\n",
       "      <td>1500000</td>\n",
       "      <td>[{'id': '18', 'name': 'Drama'}, {'id': '9648',...</td>\n",
       "      <td>http://www.hashtaghorror.com/</td>\n",
       "      <td>301325</td>\n",
       "      <td>[]</td>\n",
       "      <td>de</td>\n",
       "      <td>Inspired by actual events, a group of 12 year ...</td>\n",
       "      <td>2.815228</td>\n",
       "      <td>[{'name': 'AST Studios', 'id': '75277'}]</td>\n",
       "      <td>...</td>\n",
       "      <td>90.0</td>\n",
       "      <td>[{'iso_639_1': 'en', 'name': 'English'}]</td>\n",
       "      <td>Released</td>\n",
       "      <td>Death is trending.</td>\n",
       "      <td>#Horror</td>\n",
       "      <td>3.3</td>\n",
       "      <td>52</td>\n",
       "      <td>301325.0</td>\n",
       "      <td>[{\"cast_id\": 0, \"character\": \"Alex's 12-Step F...</td>\n",
       "      <td>[{\"credit_id\": \"545bbac70e0a261fb6002329\", \"de...</td>\n",
       "    </tr>\n",
       "    <tr>\n",
       "      <th>1</th>\n",
       "      <td>$upercapitalist</td>\n",
       "      <td>0</td>\n",
       "      <td>[]</td>\n",
       "      <td>http://supercapitalist.net/</td>\n",
       "      <td>119458</td>\n",
       "      <td>[]</td>\n",
       "      <td>en</td>\n",
       "      <td>A maverick New York hedge fund trader with unc...</td>\n",
       "      <td>0.174311</td>\n",
       "      <td>[]</td>\n",
       "      <td>...</td>\n",
       "      <td>103.0</td>\n",
       "      <td>[]</td>\n",
       "      <td>Released</td>\n",
       "      <td>Money for Life</td>\n",
       "      <td>Supercapitalist</td>\n",
       "      <td>3.5</td>\n",
       "      <td>2</td>\n",
       "      <td>NaN</td>\n",
       "      <td>NaN</td>\n",
       "      <td>NaN</td>\n",
       "    </tr>\n",
       "    <tr>\n",
       "      <th>2</th>\n",
       "      <td>(500) Days of Summer</td>\n",
       "      <td>7500000</td>\n",
       "      <td>[{'id': '35', 'name': 'Comedy'}, {'id': '18', ...</td>\n",
       "      <td>http://500days.com</td>\n",
       "      <td>19913</td>\n",
       "      <td>[{\"id\": 248, \"name\": \"date\"}, {\"id\": 572, \"nam...</td>\n",
       "      <td>en</td>\n",
       "      <td>Tom (Joseph Gordon-Levitt), greeting-card writ...</td>\n",
       "      <td>45.610993</td>\n",
       "      <td>[{'name': 'Fox Searchlight Pictures', 'id': '4...</td>\n",
       "      <td>...</td>\n",
       "      <td>95.0</td>\n",
       "      <td>[{'iso_639_1': 'en', 'name': 'English'}, {'iso...</td>\n",
       "      <td>Released</td>\n",
       "      <td>It was almost like falling in love.</td>\n",
       "      <td>(500) Days of Summer</td>\n",
       "      <td>7.2</td>\n",
       "      <td>2904</td>\n",
       "      <td>19913.0</td>\n",
       "      <td>[{\"cast_id\": 4, \"character\": \"Tom Hansen\", \"cr...</td>\n",
       "      <td>[{\"credit_id\": \"52fe47f99251416c750abaa5\", \"de...</td>\n",
       "    </tr>\n",
       "    <tr>\n",
       "      <th>3</th>\n",
       "      <td>...E tu vivrai nel terrore! L'aldilà</td>\n",
       "      <td>0</td>\n",
       "      <td>[]</td>\n",
       "      <td>NaN</td>\n",
       "      <td>19204</td>\n",
       "      <td>[{\"id\": 612, \"name\": \"hotel\"}, {\"id\": 1706, \"n...</td>\n",
       "      <td>it</td>\n",
       "      <td>A young woman inherits an old hotel in Louisia...</td>\n",
       "      <td>8.022122</td>\n",
       "      <td>[]</td>\n",
       "      <td>...</td>\n",
       "      <td>87.0</td>\n",
       "      <td>[{'iso_639_1': 'en', 'name': 'English'}]</td>\n",
       "      <td>Released</td>\n",
       "      <td>The seven dreaded gateways to Hell are conceal...</td>\n",
       "      <td>The Beyond</td>\n",
       "      <td>6.6</td>\n",
       "      <td>117</td>\n",
       "      <td>NaN</td>\n",
       "      <td>NaN</td>\n",
       "      <td>NaN</td>\n",
       "    </tr>\n",
       "    <tr>\n",
       "      <th>4</th>\n",
       "      <td>10 Cloverfield Lane</td>\n",
       "      <td>15000000</td>\n",
       "      <td>[{'id': '53', 'name': 'Thriller'}, {'id': '878...</td>\n",
       "      <td>http://www.10cloverfieldlane.com/</td>\n",
       "      <td>333371</td>\n",
       "      <td>[{\"id\": 1930, \"name\": \"kidnapping\"}, {\"id\": 23...</td>\n",
       "      <td>en</td>\n",
       "      <td>After a car accident, Michelle awakens to find...</td>\n",
       "      <td>53.698683</td>\n",
       "      <td>[{'name': 'Paramount Pictures', 'id': '4'}, {'...</td>\n",
       "      <td>...</td>\n",
       "      <td>103.0</td>\n",
       "      <td>[]</td>\n",
       "      <td>Released</td>\n",
       "      <td>Monsters come in many forms.</td>\n",
       "      <td>10 Cloverfield Lane</td>\n",
       "      <td>6.8</td>\n",
       "      <td>2468</td>\n",
       "      <td>333371.0</td>\n",
       "      <td>[{\"cast_id\": 2, \"character\": \"Michelle\", \"cred...</td>\n",
       "      <td>[{\"credit_id\": \"57627624c3a3680682000872\", \"de...</td>\n",
       "    </tr>\n",
       "  </tbody>\n",
       "</table>\n",
       "<p>5 rows × 23 columns</p>\n",
       "</div>"
      ],
      "text/plain": [
       "                                  index    budget  \\\n",
       "0                               #Horror   1500000   \n",
       "1                       $upercapitalist         0   \n",
       "2                  (500) Days of Summer   7500000   \n",
       "3  ...E tu vivrai nel terrore! L'aldilà         0   \n",
       "4                   10 Cloverfield Lane  15000000   \n",
       "\n",
       "                                              genres  \\\n",
       "0  [{'id': '18', 'name': 'Drama'}, {'id': '9648',...   \n",
       "1                                                 []   \n",
       "2  [{'id': '35', 'name': 'Comedy'}, {'id': '18', ...   \n",
       "3                                                 []   \n",
       "4  [{'id': '53', 'name': 'Thriller'}, {'id': '878...   \n",
       "\n",
       "                            homepage      id  \\\n",
       "0      http://www.hashtaghorror.com/  301325   \n",
       "1        http://supercapitalist.net/  119458   \n",
       "2                 http://500days.com   19913   \n",
       "3                                NaN   19204   \n",
       "4  http://www.10cloverfieldlane.com/  333371   \n",
       "\n",
       "                                            keywords original_language  \\\n",
       "0                                                 []                de   \n",
       "1                                                 []                en   \n",
       "2  [{\"id\": 248, \"name\": \"date\"}, {\"id\": 572, \"nam...                en   \n",
       "3  [{\"id\": 612, \"name\": \"hotel\"}, {\"id\": 1706, \"n...                it   \n",
       "4  [{\"id\": 1930, \"name\": \"kidnapping\"}, {\"id\": 23...                en   \n",
       "\n",
       "                                            overview  popularity  \\\n",
       "0  Inspired by actual events, a group of 12 year ...    2.815228   \n",
       "1  A maverick New York hedge fund trader with unc...    0.174311   \n",
       "2  Tom (Joseph Gordon-Levitt), greeting-card writ...   45.610993   \n",
       "3  A young woman inherits an old hotel in Louisia...    8.022122   \n",
       "4  After a car accident, Michelle awakens to find...   53.698683   \n",
       "\n",
       "                                production_companies  ... runtime  \\\n",
       "0           [{'name': 'AST Studios', 'id': '75277'}]  ...    90.0   \n",
       "1                                                 []  ...   103.0   \n",
       "2  [{'name': 'Fox Searchlight Pictures', 'id': '4...  ...    95.0   \n",
       "3                                                 []  ...    87.0   \n",
       "4  [{'name': 'Paramount Pictures', 'id': '4'}, {'...  ...   103.0   \n",
       "\n",
       "                                    spoken_languages    status  \\\n",
       "0           [{'iso_639_1': 'en', 'name': 'English'}]  Released   \n",
       "1                                                 []  Released   \n",
       "2  [{'iso_639_1': 'en', 'name': 'English'}, {'iso...  Released   \n",
       "3           [{'iso_639_1': 'en', 'name': 'English'}]  Released   \n",
       "4                                                 []  Released   \n",
       "\n",
       "                                             tagline                 title  \\\n",
       "0                                 Death is trending.               #Horror   \n",
       "1                                     Money for Life       Supercapitalist   \n",
       "2                It was almost like falling in love.  (500) Days of Summer   \n",
       "3  The seven dreaded gateways to Hell are conceal...            The Beyond   \n",
       "4                       Monsters come in many forms.   10 Cloverfield Lane   \n",
       "\n",
       "  vote_average vote_count  movie_id  \\\n",
       "0          3.3         52  301325.0   \n",
       "1          3.5          2       NaN   \n",
       "2          7.2       2904   19913.0   \n",
       "3          6.6        117       NaN   \n",
       "4          6.8       2468  333371.0   \n",
       "\n",
       "                                                cast  \\\n",
       "0  [{\"cast_id\": 0, \"character\": \"Alex's 12-Step F...   \n",
       "1                                                NaN   \n",
       "2  [{\"cast_id\": 4, \"character\": \"Tom Hansen\", \"cr...   \n",
       "3                                                NaN   \n",
       "4  [{\"cast_id\": 2, \"character\": \"Michelle\", \"cred...   \n",
       "\n",
       "                                                crew  \n",
       "0  [{\"credit_id\": \"545bbac70e0a261fb6002329\", \"de...  \n",
       "1                                                NaN  \n",
       "2  [{\"credit_id\": \"52fe47f99251416c750abaa5\", \"de...  \n",
       "3                                                NaN  \n",
       "4  [{\"credit_id\": \"57627624c3a3680682000872\", \"de...  \n",
       "\n",
       "[5 rows x 23 columns]"
      ]
     },
     "metadata": {},
     "output_type": "display_data"
    }
   ],
   "source": [
    "#go through each row\n",
    "for index, row in df.iterrows():\n",
    "    \n",
    "    s_langs = []\n",
    "    line = row[\"spoken_languages\"]\n",
    "    cur_s_langs = line.split('},')\n",
    "    \n",
    "    del cur_s_langs[-1]\n",
    "  \n",
    "    #transform info for each genre\n",
    "    for s_lang in cur_s_langs:\n",
    "        \n",
    "        m = re.search(\"\\\"iso_639_1\\\": \\\"(.*)\\\", \\\"name\\\": \\\"(.*)\\\"\", s_lang)\n",
    "        \n",
    "        cur_iso_639_1 = m.groups()[0]\n",
    "        cur_name = m.groups()[1]\n",
    "\n",
    "        cur_info = {}\n",
    "        cur_info[\"iso_639_1\"] = cur_iso_639_1\n",
    "        cur_info[\"name\"] = cur_name\n",
    "\n",
    "        s_langs.append(cur_info)\n",
    "        \n",
    "    df.at[index, \"spoken_languages\"] = s_langs\n",
    "    \n",
    "display(df.head())"
   ]
  },
  {
   "cell_type": "markdown",
   "metadata": {},
   "source": [
    "Subsequently, we will modify the cast. As shown below, a movie has multiple cast members, and each member has a cast_id, a character, a credit_id, a gender, an id, a name, and an order."
   ]
  },
  {
   "cell_type": "code",
   "execution_count": 12,
   "metadata": {},
   "outputs": [
    {
     "data": {
      "text/plain": [
       "'[{\"cast_id\": 0, \"character\": \"Alex\\'s 12-Step Friend\", \"credit_id\": \"545bba84c3a3685358001b80\", \"gender\": 1, \"id\": 343, \"name\": \"Taryn Manning\", \"order\": 1}, {\"cast_id\": 1, \"character\": \"Sam\\'s Mom\", \"credit_id\": \"545bba8a0e0a261fad0023f6\", \"gender\": 1, \"id\": 10871, \"name\": \"Natasha Lyonne\", \"order\": 2}, {\"cast_id\": 2, \"character\": \"Alex Cox\", \"credit_id\": \"545bba8fc3a36853500018a4\", \"gender\": 1, \"id\": 2838, \"name\": \"Chlo\\\\u00eb Sevigny\", \"order\": 3}, {\"cast_id\": 3, \"character\": \"Mr. Cox\", \"credit_id\": \"545bba94c3a3685353001a56\", \"gender\": 2, \"id\": 9296, \"name\": \"Balthazar Getty\", \"order\": 4}, {\"cast_id\": 4, \"character\": \"Dr. White\", \"credit_id\": \"545bba990e0a261fb900220b\", \"gender\": 2, \"id\": 16327, \"name\": \"Timothy Hutton\", \"order\": 5}, {\"cast_id\": 5, \"character\": \"Lisa\", \"credit_id\": \"545bba9ec3a368535d001e67\", \"gender\": 1, \"id\": 210573, \"name\": \"Lydia Hearst\", \"order\": 6}, {\"cast_id\": 6, \"character\": \"Mom\", \"credit_id\": \"545bbaa4c3a368535d001e6b\", \"gender\": 0, \"id\": 180425, \"name\": \"Jessica Blank\", \"order\": 7}, {\"cast_id\": 7, \"character\": \"Molly\", \"credit_id\": \"545bbab1c3a3685362001a0f\", \"gender\": 0, \"id\": 1102331, \"name\": \"Annabelle Dexter-Jones\", \"order\": 8}, {\"cast_id\": 15, \"character\": \"Tatiana (voice)\", \"credit_id\": \"572f9a8792514102ac000642\", \"gender\": 1, \"id\": 61111, \"name\": \"Tara Subkoff\", \"order\": 9}]'"
      ]
     },
     "execution_count": 12,
     "metadata": {},
     "output_type": "execute_result"
    }
   ],
   "source": [
    "df.iloc[0][\"cast\"]"
   ]
  },
  {
   "cell_type": "code",
   "execution_count": 13,
   "metadata": {},
   "outputs": [],
   "source": [
    "#go through each row\n",
    "for index, row in df.iterrows():\n",
    "    \n",
    "    casts = []\n",
    "    line = str(row[\"cast\"])\n",
    "    cur_casts = line.split('},')\n",
    "    \n",
    "    del cur_casts[-1]\n",
    "  \n",
    "    #transform info for each genre\n",
    "    for cast in cur_casts:\n",
    "       \n",
    "        m = re.search(\"cast_id\\\": (\\d*), \\\"character\\\": \\\"(.*)\\\", \\\"credit_id\\\": \\\"(.*)\\\", \\\"gender\\\": (.*), \\\"id\\\": (\\d*), \\\"name\\\": \\\"(.*)\\\", \\\"order\\\": (.*)\", cast)\n",
    "       \n",
    "        cur_cast_id = m.groups()[0]\n",
    "        cur_character = m.groups()[1]\n",
    "        cur_credit_id = m.groups()[2]\n",
    "        cur_gender = m.groups()[3]\n",
    "        cur_id = m.groups()[4]\n",
    "        cur_name = m.groups()[5]\n",
    "        cur_order = m.groups()[6]\n",
    "\n",
    "        cur_info = {}\n",
    "        cur_info[\"cast_id\"] = cur_cast_id\n",
    "        cur_info[\"character\"] = cur_character\n",
    "        cur_info[\"credit_id\"] = cur_credit_id\n",
    "        cur_info[\"gender\"] = cur_gender\n",
    "        cur_info[\"id\"] = cur_id\n",
    "        cur_info[\"name\"] = cur_name\n",
    "        cur_info[\"order\"] = cur_order\n",
    "\n",
    "        casts.append(cur_info)\n",
    "        \n",
    "    df.at[index, \"production_countries\"] = casts"
   ]
  },
  {
   "cell_type": "markdown",
   "metadata": {},
   "source": [
    "Lastly, we will modify the crew. As shown below, each crew has multiple members, and each member has a credit_id, a department, a gender, an id, a job, and a name."
   ]
  },
  {
   "cell_type": "code",
   "execution_count": 14,
   "metadata": {},
   "outputs": [
    {
     "data": {
      "text/plain": [
       "'[{\"credit_id\": \"545bbac70e0a261fb6002329\", \"department\": \"Writing\", \"gender\": 1, \"id\": 61111, \"job\": \"Screenplay\", \"name\": \"Tara Subkoff\"}, {\"credit_id\": \"545bbabf0e0a261fb9002212\", \"department\": \"Directing\", \"gender\": 1, \"id\": 61111, \"job\": \"Director\", \"name\": \"Tara Subkoff\"}, {\"credit_id\": \"545bbae4c3a36853500018a8\", \"department\": \"Production\", \"gender\": 1, \"id\": 61111, \"job\": \"Producer\", \"name\": \"Tara Subkoff\"}, {\"credit_id\": \"545bbad3c3a3685358001b92\", \"department\": \"Production\", \"gender\": 0, \"id\": 1382445, \"job\": \"Producer\", \"name\": \"Jason Ludman\"}, {\"credit_id\": \"545bbadbc3a368535d001e74\", \"department\": \"Production\", \"gender\": 0, \"id\": 1382446, \"job\": \"Producer\", \"name\": \"Oren Segal\"}, {\"credit_id\": \"545bbaf3c3a3685358001b9d\", \"department\": \"Production\", \"gender\": 0, \"id\": 1382448, \"job\": \"Producer\", \"name\": \"Brendan Walsh\"}]'"
      ]
     },
     "execution_count": 14,
     "metadata": {},
     "output_type": "execute_result"
    }
   ],
   "source": [
    "df.iloc[0][\"crew\"]"
   ]
  },
  {
   "cell_type": "code",
   "execution_count": 15,
   "metadata": {},
   "outputs": [],
   "source": [
    "#go through each row\n",
    "for index, row in df.iterrows():\n",
    "    \n",
    "    crews = []\n",
    "    line = str(row[\"crew\"])\n",
    "    cur_crews = line.split('},')\n",
    "    \n",
    "    del cur_crews[-1]\n",
    "   \n",
    "    #transform info for each genre\n",
    "    for crew in cur_crews:\n",
    "        \n",
    "        m = re.search(\"credit_id\\\": (.*), \\\"department\\\": \\\"(.*)\\\", \\\"gender\\\": (.*), \\\"id\\\": (.*), \\\"job\\\": (.*), \\\"name\\\": (.*)\\\"\", crew)\n",
    "       \n",
    "        cur_credit_id = m.groups()[0]\n",
    "        cur_department = m.groups()[1]\n",
    "        cur_gender = m.groups()[2]\n",
    "        cur_id = m.groups()[3]\n",
    "        cur_job = m.groups()[4]\n",
    "        cur_name = m.groups()[5]\n",
    "\n",
    "        cur_info = {}\n",
    "        cur_info[\"credit_id\"] = cur_credit_id\n",
    "        cur_info[\"department\"] = cur_department\n",
    "        cur_info[\"gender\"] = cur_gender\n",
    "        cur_info[\"id\"] = cur_id\n",
    "        cur_info[\"job\"] = cur_job\n",
    "        cur_info[\"name\"] = cur_name\n",
    "\n",
    "        crews.append(cur_info)\n",
    "        \n",
    "    df.at[index, \"crew\"] = crews"
   ]
  },
  {
   "cell_type": "markdown",
   "metadata": {},
   "source": [
    "The final tidied table is shown below. Now we will being doing exploratory analysis on our data."
   ]
  },
  {
   "cell_type": "code",
   "execution_count": 16,
   "metadata": {},
   "outputs": [
    {
     "data": {
      "text/html": [
       "<div>\n",
       "<style scoped>\n",
       "    .dataframe tbody tr th:only-of-type {\n",
       "        vertical-align: middle;\n",
       "    }\n",
       "\n",
       "    .dataframe tbody tr th {\n",
       "        vertical-align: top;\n",
       "    }\n",
       "\n",
       "    .dataframe thead th {\n",
       "        text-align: right;\n",
       "    }\n",
       "</style>\n",
       "<table border=\"1\" class=\"dataframe\">\n",
       "  <thead>\n",
       "    <tr style=\"text-align: right;\">\n",
       "      <th></th>\n",
       "      <th>index</th>\n",
       "      <th>budget</th>\n",
       "      <th>genres</th>\n",
       "      <th>homepage</th>\n",
       "      <th>id</th>\n",
       "      <th>keywords</th>\n",
       "      <th>original_language</th>\n",
       "      <th>overview</th>\n",
       "      <th>popularity</th>\n",
       "      <th>production_companies</th>\n",
       "      <th>...</th>\n",
       "      <th>runtime</th>\n",
       "      <th>spoken_languages</th>\n",
       "      <th>status</th>\n",
       "      <th>tagline</th>\n",
       "      <th>title</th>\n",
       "      <th>vote_average</th>\n",
       "      <th>vote_count</th>\n",
       "      <th>movie_id</th>\n",
       "      <th>cast</th>\n",
       "      <th>crew</th>\n",
       "    </tr>\n",
       "  </thead>\n",
       "  <tbody>\n",
       "    <tr>\n",
       "      <th>0</th>\n",
       "      <td>#Horror</td>\n",
       "      <td>1500000</td>\n",
       "      <td>[{'id': '18', 'name': 'Drama'}, {'id': '9648',...</td>\n",
       "      <td>http://www.hashtaghorror.com/</td>\n",
       "      <td>301325</td>\n",
       "      <td>[]</td>\n",
       "      <td>de</td>\n",
       "      <td>Inspired by actual events, a group of 12 year ...</td>\n",
       "      <td>2.815228</td>\n",
       "      <td>[{'name': 'AST Studios', 'id': '75277'}]</td>\n",
       "      <td>...</td>\n",
       "      <td>90.0</td>\n",
       "      <td>[{'iso_639_1': 'en', 'name': 'English'}]</td>\n",
       "      <td>Released</td>\n",
       "      <td>Death is trending.</td>\n",
       "      <td>#Horror</td>\n",
       "      <td>3.3</td>\n",
       "      <td>52</td>\n",
       "      <td>301325.0</td>\n",
       "      <td>[{\"cast_id\": 0, \"character\": \"Alex's 12-Step F...</td>\n",
       "      <td>[{'credit_id': '\"545bbac70e0a261fb6002329\"', '...</td>\n",
       "    </tr>\n",
       "    <tr>\n",
       "      <th>1</th>\n",
       "      <td>$upercapitalist</td>\n",
       "      <td>0</td>\n",
       "      <td>[]</td>\n",
       "      <td>http://supercapitalist.net/</td>\n",
       "      <td>119458</td>\n",
       "      <td>[]</td>\n",
       "      <td>en</td>\n",
       "      <td>A maverick New York hedge fund trader with unc...</td>\n",
       "      <td>0.174311</td>\n",
       "      <td>[]</td>\n",
       "      <td>...</td>\n",
       "      <td>103.0</td>\n",
       "      <td>[]</td>\n",
       "      <td>Released</td>\n",
       "      <td>Money for Life</td>\n",
       "      <td>Supercapitalist</td>\n",
       "      <td>3.5</td>\n",
       "      <td>2</td>\n",
       "      <td>NaN</td>\n",
       "      <td>NaN</td>\n",
       "      <td>[]</td>\n",
       "    </tr>\n",
       "    <tr>\n",
       "      <th>2</th>\n",
       "      <td>(500) Days of Summer</td>\n",
       "      <td>7500000</td>\n",
       "      <td>[{'id': '35', 'name': 'Comedy'}, {'id': '18', ...</td>\n",
       "      <td>http://500days.com</td>\n",
       "      <td>19913</td>\n",
       "      <td>[{\"id\": 248, \"name\": \"date\"}, {\"id\": 572, \"nam...</td>\n",
       "      <td>en</td>\n",
       "      <td>Tom (Joseph Gordon-Levitt), greeting-card writ...</td>\n",
       "      <td>45.610993</td>\n",
       "      <td>[{'name': 'Fox Searchlight Pictures', 'id': '4...</td>\n",
       "      <td>...</td>\n",
       "      <td>95.0</td>\n",
       "      <td>[{'iso_639_1': 'en', 'name': 'English'}, {'iso...</td>\n",
       "      <td>Released</td>\n",
       "      <td>It was almost like falling in love.</td>\n",
       "      <td>(500) Days of Summer</td>\n",
       "      <td>7.2</td>\n",
       "      <td>2904</td>\n",
       "      <td>19913.0</td>\n",
       "      <td>[{\"cast_id\": 4, \"character\": \"Tom Hansen\", \"cr...</td>\n",
       "      <td>[{'credit_id': '\"52fe47f99251416c750abaa5\"', '...</td>\n",
       "    </tr>\n",
       "    <tr>\n",
       "      <th>3</th>\n",
       "      <td>...E tu vivrai nel terrore! L'aldilà</td>\n",
       "      <td>0</td>\n",
       "      <td>[]</td>\n",
       "      <td>NaN</td>\n",
       "      <td>19204</td>\n",
       "      <td>[{\"id\": 612, \"name\": \"hotel\"}, {\"id\": 1706, \"n...</td>\n",
       "      <td>it</td>\n",
       "      <td>A young woman inherits an old hotel in Louisia...</td>\n",
       "      <td>8.022122</td>\n",
       "      <td>[]</td>\n",
       "      <td>...</td>\n",
       "      <td>87.0</td>\n",
       "      <td>[{'iso_639_1': 'en', 'name': 'English'}]</td>\n",
       "      <td>Released</td>\n",
       "      <td>The seven dreaded gateways to Hell are conceal...</td>\n",
       "      <td>The Beyond</td>\n",
       "      <td>6.6</td>\n",
       "      <td>117</td>\n",
       "      <td>NaN</td>\n",
       "      <td>NaN</td>\n",
       "      <td>[]</td>\n",
       "    </tr>\n",
       "    <tr>\n",
       "      <th>4</th>\n",
       "      <td>10 Cloverfield Lane</td>\n",
       "      <td>15000000</td>\n",
       "      <td>[{'id': '53', 'name': 'Thriller'}, {'id': '878...</td>\n",
       "      <td>http://www.10cloverfieldlane.com/</td>\n",
       "      <td>333371</td>\n",
       "      <td>[{\"id\": 1930, \"name\": \"kidnapping\"}, {\"id\": 23...</td>\n",
       "      <td>en</td>\n",
       "      <td>After a car accident, Michelle awakens to find...</td>\n",
       "      <td>53.698683</td>\n",
       "      <td>[{'name': 'Paramount Pictures', 'id': '4'}, {'...</td>\n",
       "      <td>...</td>\n",
       "      <td>103.0</td>\n",
       "      <td>[]</td>\n",
       "      <td>Released</td>\n",
       "      <td>Monsters come in many forms.</td>\n",
       "      <td>10 Cloverfield Lane</td>\n",
       "      <td>6.8</td>\n",
       "      <td>2468</td>\n",
       "      <td>333371.0</td>\n",
       "      <td>[{\"cast_id\": 2, \"character\": \"Michelle\", \"cred...</td>\n",
       "      <td>[{'credit_id': '\"57627624c3a3680682000872\"', '...</td>\n",
       "    </tr>\n",
       "  </tbody>\n",
       "</table>\n",
       "<p>5 rows × 23 columns</p>\n",
       "</div>"
      ],
      "text/plain": [
       "                                  index    budget  \\\n",
       "0                               #Horror   1500000   \n",
       "1                       $upercapitalist         0   \n",
       "2                  (500) Days of Summer   7500000   \n",
       "3  ...E tu vivrai nel terrore! L'aldilà         0   \n",
       "4                   10 Cloverfield Lane  15000000   \n",
       "\n",
       "                                              genres  \\\n",
       "0  [{'id': '18', 'name': 'Drama'}, {'id': '9648',...   \n",
       "1                                                 []   \n",
       "2  [{'id': '35', 'name': 'Comedy'}, {'id': '18', ...   \n",
       "3                                                 []   \n",
       "4  [{'id': '53', 'name': 'Thriller'}, {'id': '878...   \n",
       "\n",
       "                            homepage      id  \\\n",
       "0      http://www.hashtaghorror.com/  301325   \n",
       "1        http://supercapitalist.net/  119458   \n",
       "2                 http://500days.com   19913   \n",
       "3                                NaN   19204   \n",
       "4  http://www.10cloverfieldlane.com/  333371   \n",
       "\n",
       "                                            keywords original_language  \\\n",
       "0                                                 []                de   \n",
       "1                                                 []                en   \n",
       "2  [{\"id\": 248, \"name\": \"date\"}, {\"id\": 572, \"nam...                en   \n",
       "3  [{\"id\": 612, \"name\": \"hotel\"}, {\"id\": 1706, \"n...                it   \n",
       "4  [{\"id\": 1930, \"name\": \"kidnapping\"}, {\"id\": 23...                en   \n",
       "\n",
       "                                            overview  popularity  \\\n",
       "0  Inspired by actual events, a group of 12 year ...    2.815228   \n",
       "1  A maverick New York hedge fund trader with unc...    0.174311   \n",
       "2  Tom (Joseph Gordon-Levitt), greeting-card writ...   45.610993   \n",
       "3  A young woman inherits an old hotel in Louisia...    8.022122   \n",
       "4  After a car accident, Michelle awakens to find...   53.698683   \n",
       "\n",
       "                                production_companies  ... runtime  \\\n",
       "0           [{'name': 'AST Studios', 'id': '75277'}]  ...    90.0   \n",
       "1                                                 []  ...   103.0   \n",
       "2  [{'name': 'Fox Searchlight Pictures', 'id': '4...  ...    95.0   \n",
       "3                                                 []  ...    87.0   \n",
       "4  [{'name': 'Paramount Pictures', 'id': '4'}, {'...  ...   103.0   \n",
       "\n",
       "                                    spoken_languages    status  \\\n",
       "0           [{'iso_639_1': 'en', 'name': 'English'}]  Released   \n",
       "1                                                 []  Released   \n",
       "2  [{'iso_639_1': 'en', 'name': 'English'}, {'iso...  Released   \n",
       "3           [{'iso_639_1': 'en', 'name': 'English'}]  Released   \n",
       "4                                                 []  Released   \n",
       "\n",
       "                                             tagline                 title  \\\n",
       "0                                 Death is trending.               #Horror   \n",
       "1                                     Money for Life       Supercapitalist   \n",
       "2                It was almost like falling in love.  (500) Days of Summer   \n",
       "3  The seven dreaded gateways to Hell are conceal...            The Beyond   \n",
       "4                       Monsters come in many forms.   10 Cloverfield Lane   \n",
       "\n",
       "  vote_average vote_count  movie_id  \\\n",
       "0          3.3         52  301325.0   \n",
       "1          3.5          2       NaN   \n",
       "2          7.2       2904   19913.0   \n",
       "3          6.6        117       NaN   \n",
       "4          6.8       2468  333371.0   \n",
       "\n",
       "                                                cast  \\\n",
       "0  [{\"cast_id\": 0, \"character\": \"Alex's 12-Step F...   \n",
       "1                                                NaN   \n",
       "2  [{\"cast_id\": 4, \"character\": \"Tom Hansen\", \"cr...   \n",
       "3                                                NaN   \n",
       "4  [{\"cast_id\": 2, \"character\": \"Michelle\", \"cred...   \n",
       "\n",
       "                                                crew  \n",
       "0  [{'credit_id': '\"545bbac70e0a261fb6002329\"', '...  \n",
       "1                                                 []  \n",
       "2  [{'credit_id': '\"52fe47f99251416c750abaa5\"', '...  \n",
       "3                                                 []  \n",
       "4  [{'credit_id': '\"57627624c3a3680682000872\"', '...  \n",
       "\n",
       "[5 rows x 23 columns]"
      ]
     },
     "metadata": {},
     "output_type": "display_data"
    }
   ],
   "source": [
    "display(df.head())"
   ]
  },
  {
   "cell_type": "markdown",
   "metadata": {},
   "source": [
    "We see that there's a lot of places for missing data to show up, especially in the budget/revenue categories. We shall convert them to nans here"
   ]
  },
  {
   "cell_type": "code",
   "execution_count": null,
   "metadata": {},
   "outputs": [],
   "source": []
  },
  {
   "cell_type": "markdown",
   "metadata": {},
   "source": [
    "## 2.0 - Exploratory Data Analysis"
   ]
  },
  {
   "cell_type": "markdown",
   "metadata": {},
   "source": [
    "### Overral Trends"
   ]
  },
  {
   "cell_type": "markdown",
   "metadata": {},
   "source": [
    "To start off our data exploration, we will create a correlation table to view the general trends and relationships within our data. \n",
    "\n",
    "We will only be using the key variables in our table, and we will also include a variable for missing data."
   ]
  },
  {
   "cell_type": "code",
   "execution_count": 17,
   "metadata": {},
   "outputs": [],
   "source": [
    "df['missing'] = 0\n",
    "\n",
    "genres = []\n",
    "revenues = []\n",
    "\n",
    "#get the genre and revenue data from the table\n",
    "for index, row in df.iterrows():\n",
    "    l = list(map(lambda e: e['name'], row['genres']))\n",
    "    genres += l;\n",
    "    revenues += [row['revenue']] * len(row['genres'])\n",
    "\n",
    "#find the missing data in the table    \n",
    "for index, row in df.iterrows():\n",
    "    \n",
    "    missing = 0\n",
    "    \n",
    "    #if the budget is missing\n",
    "    if row['budget'] == 0:\n",
    "        missing += 1\n",
    "        \n",
    "    #if the genres are missing    \n",
    "    if row['genres'] == []:\n",
    "        missing += 1\n",
    "        \n",
    "    #if the homepage is missing    \n",
    "    if row['homepage'] == np.NaN:\n",
    "        missing += 1\n",
    "        \n",
    "    #if the keywords are missing    \n",
    "    if row['keywords'] == []:\n",
    "        missing += 1\n",
    "        \n",
    "    #if the production companies are missing    \n",
    "    if row['production_companies'] == []:\n",
    "        missing += 1\n",
    "        \n",
    "    #if the production countries are missing    \n",
    "    if row['production_countries'] == []:\n",
    "        missing += 1\n",
    "        \n",
    "    #if the spoken languages are missing    \n",
    "    if row['spoken_languages'] == []:\n",
    "        missing += 1\n",
    "        \n",
    "    #if the revenue is missing    \n",
    "    if row['revenue'] == 0:\n",
    "        missing += 1 \n",
    "        \n",
    "    #if the tagline is missing    \n",
    "    if row['tagline'] == np.NaN:\n",
    "        missing += 1\n",
    "        \n",
    "    #if the cast info is missing    \n",
    "    if row['cast'] == np.NaN:\n",
    "        missing += 1\n",
    "        \n",
    "    #if the crew info is missing    \n",
    "    if row['crew'] == np.NaN:\n",
    "        missing += 1\n",
    "    \n",
    "    df.at[index, 'missing'] = missing"
   ]
  },
  {
   "cell_type": "code",
   "execution_count": 18,
   "metadata": {},
   "outputs": [
    {
     "data": {
      "text/html": [
       "<div>\n",
       "<style scoped>\n",
       "    .dataframe tbody tr th:only-of-type {\n",
       "        vertical-align: middle;\n",
       "    }\n",
       "\n",
       "    .dataframe tbody tr th {\n",
       "        vertical-align: top;\n",
       "    }\n",
       "\n",
       "    .dataframe thead th {\n",
       "        text-align: right;\n",
       "    }\n",
       "</style>\n",
       "<table border=\"1\" class=\"dataframe\">\n",
       "  <thead>\n",
       "    <tr style=\"text-align: right;\">\n",
       "      <th></th>\n",
       "      <th>budget</th>\n",
       "      <th>id</th>\n",
       "      <th>popularity</th>\n",
       "      <th>revenue</th>\n",
       "      <th>runtime</th>\n",
       "      <th>vote_average</th>\n",
       "      <th>vote_count</th>\n",
       "      <th>movie_id</th>\n",
       "      <th>missing</th>\n",
       "    </tr>\n",
       "  </thead>\n",
       "  <tbody>\n",
       "    <tr>\n",
       "      <th>budget</th>\n",
       "      <td>1.000000</td>\n",
       "      <td>-0.089163</td>\n",
       "      <td>0.505545</td>\n",
       "      <td>0.730603</td>\n",
       "      <td>0.269966</td>\n",
       "      <td>0.093112</td>\n",
       "      <td>0.593224</td>\n",
       "      <td>-0.086309</td>\n",
       "      <td>-0.422248</td>\n",
       "    </tr>\n",
       "    <tr>\n",
       "      <th>id</th>\n",
       "      <td>-0.089163</td>\n",
       "      <td>1.000000</td>\n",
       "      <td>0.031267</td>\n",
       "      <td>-0.050527</td>\n",
       "      <td>-0.153521</td>\n",
       "      <td>-0.270644</td>\n",
       "      <td>-0.004113</td>\n",
       "      <td>0.999903</td>\n",
       "      <td>0.241596</td>\n",
       "    </tr>\n",
       "    <tr>\n",
       "      <th>popularity</th>\n",
       "      <td>0.505545</td>\n",
       "      <td>0.031267</td>\n",
       "      <td>1.000000</td>\n",
       "      <td>0.644725</td>\n",
       "      <td>0.225761</td>\n",
       "      <td>0.273952</td>\n",
       "      <td>0.778214</td>\n",
       "      <td>0.044541</td>\n",
       "      <td>-0.331544</td>\n",
       "    </tr>\n",
       "    <tr>\n",
       "      <th>revenue</th>\n",
       "      <td>0.730603</td>\n",
       "      <td>-0.050527</td>\n",
       "      <td>0.644725</td>\n",
       "      <td>1.000000</td>\n",
       "      <td>0.251344</td>\n",
       "      <td>0.197337</td>\n",
       "      <td>0.781471</td>\n",
       "      <td>-0.046466</td>\n",
       "      <td>-0.324332</td>\n",
       "    </tr>\n",
       "    <tr>\n",
       "      <th>runtime</th>\n",
       "      <td>0.269966</td>\n",
       "      <td>-0.153521</td>\n",
       "      <td>0.225761</td>\n",
       "      <td>0.251344</td>\n",
       "      <td>1.000000</td>\n",
       "      <td>0.375036</td>\n",
       "      <td>0.272258</td>\n",
       "      <td>-0.157726</td>\n",
       "      <td>-0.291237</td>\n",
       "    </tr>\n",
       "    <tr>\n",
       "      <th>vote_average</th>\n",
       "      <td>0.093112</td>\n",
       "      <td>-0.270644</td>\n",
       "      <td>0.273952</td>\n",
       "      <td>0.197337</td>\n",
       "      <td>0.375036</td>\n",
       "      <td>1.000000</td>\n",
       "      <td>0.313024</td>\n",
       "      <td>-0.267474</td>\n",
       "      <td>-0.290222</td>\n",
       "    </tr>\n",
       "    <tr>\n",
       "      <th>vote_count</th>\n",
       "      <td>0.593224</td>\n",
       "      <td>-0.004113</td>\n",
       "      <td>0.778214</td>\n",
       "      <td>0.781471</td>\n",
       "      <td>0.272258</td>\n",
       "      <td>0.313024</td>\n",
       "      <td>1.000000</td>\n",
       "      <td>0.005814</td>\n",
       "      <td>-0.328812</td>\n",
       "    </tr>\n",
       "    <tr>\n",
       "      <th>movie_id</th>\n",
       "      <td>-0.086309</td>\n",
       "      <td>0.999903</td>\n",
       "      <td>0.044541</td>\n",
       "      <td>-0.046466</td>\n",
       "      <td>-0.157726</td>\n",
       "      <td>-0.267474</td>\n",
       "      <td>0.005814</td>\n",
       "      <td>1.000000</td>\n",
       "      <td>0.239065</td>\n",
       "    </tr>\n",
       "    <tr>\n",
       "      <th>missing</th>\n",
       "      <td>-0.422248</td>\n",
       "      <td>0.241596</td>\n",
       "      <td>-0.331544</td>\n",
       "      <td>-0.324332</td>\n",
       "      <td>-0.291237</td>\n",
       "      <td>-0.290222</td>\n",
       "      <td>-0.328812</td>\n",
       "      <td>0.239065</td>\n",
       "      <td>1.000000</td>\n",
       "    </tr>\n",
       "  </tbody>\n",
       "</table>\n",
       "</div>"
      ],
      "text/plain": [
       "                budget        id  popularity   revenue   runtime  \\\n",
       "budget        1.000000 -0.089163    0.505545  0.730603  0.269966   \n",
       "id           -0.089163  1.000000    0.031267 -0.050527 -0.153521   \n",
       "popularity    0.505545  0.031267    1.000000  0.644725  0.225761   \n",
       "revenue       0.730603 -0.050527    0.644725  1.000000  0.251344   \n",
       "runtime       0.269966 -0.153521    0.225761  0.251344  1.000000   \n",
       "vote_average  0.093112 -0.270644    0.273952  0.197337  0.375036   \n",
       "vote_count    0.593224 -0.004113    0.778214  0.781471  0.272258   \n",
       "movie_id     -0.086309  0.999903    0.044541 -0.046466 -0.157726   \n",
       "missing      -0.422248  0.241596   -0.331544 -0.324332 -0.291237   \n",
       "\n",
       "              vote_average  vote_count  movie_id   missing  \n",
       "budget            0.093112    0.593224 -0.086309 -0.422248  \n",
       "id               -0.270644   -0.004113  0.999903  0.241596  \n",
       "popularity        0.273952    0.778214  0.044541 -0.331544  \n",
       "revenue           0.197337    0.781471 -0.046466 -0.324332  \n",
       "runtime           0.375036    0.272258 -0.157726 -0.291237  \n",
       "vote_average      1.000000    0.313024 -0.267474 -0.290222  \n",
       "vote_count        0.313024    1.000000  0.005814 -0.328812  \n",
       "movie_id         -0.267474    0.005814  1.000000  0.239065  \n",
       "missing          -0.290222   -0.328812  0.239065  1.000000  "
      ]
     },
     "metadata": {},
     "output_type": "display_data"
    }
   ],
   "source": [
    "display(df.corr())"
   ]
  },
  {
   "cell_type": "markdown",
   "metadata": {},
   "source": [
    "From the correlation table, it is clear that there are noticeable relationships between several of the variables, such as one  between revenue and budget. It is also interesting to note how there appears to be a relationship between revenue and missing data, as it appears that if a movie earns more money, it is less likely to have missing data in the table.\n",
    "\n",
    "We will explore these relationships below, excluding the relationships that are inconsequential such as the correlation between revenue and runtime or id\n",
    "\n",
    "First, we start by changing the 0s in budget/revenue to nans to get avoid messing up our data"
   ]
  },
  {
   "cell_type": "code",
   "execution_count": 19,
   "metadata": {},
   "outputs": [],
   "source": [
    "columns = ['budget', 'revenue']\n",
    "df[columns] = df[columns].replace(0, np.nan)"
   ]
  },
  {
   "cell_type": "markdown",
   "metadata": {},
   "source": [
    "### Relationship Between Revenue and Budget"
   ]
  },
  {
   "cell_type": "markdown",
   "metadata": {},
   "source": [
    "Now we will explore the relationship between revenue and budget.\n",
    "\n",
    "We will first create a histogram of the movies' revenues."
   ]
  },
  {
   "cell_type": "code",
   "execution_count": 20,
   "metadata": {},
   "outputs": [
    {
     "name": "stderr",
     "output_type": "stream",
     "text": [
      "/opt/conda/lib/python3.7/site-packages/numpy/lib/histograms.py:829: RuntimeWarning: invalid value encountered in greater_equal\n",
      "  keep = (tmp_a >= first_edge)\n",
      "/opt/conda/lib/python3.7/site-packages/numpy/lib/histograms.py:830: RuntimeWarning: invalid value encountered in less_equal\n",
      "  keep &= (tmp_a <= last_edge)\n"
     ]
    },
    {
     "data": {
      "text/plain": [
       "Text(0.5, 1.0, 'Distribution of Revenue')"
      ]
     },
     "execution_count": 20,
     "metadata": {},
     "output_type": "execute_result"
    },
    {
     "data": {
      "image/png": "[encoded data removed]",
      "text/plain": [
       "<Figure size 432x288 with 1 Axes>"
      ]
     },
     "metadata": {
      "needs_background": "light"
     },
     "output_type": "display_data"
    }
   ],
   "source": [
    "plt.figure()\n",
    "display()\n",
    "n, bins, patches = plt.hist(df['revenue'], log=True)\n",
    "plt.xlabel('Revenue')\n",
    "plt.ylabel('Counts')\n",
    "plt.title('Distribution of Revenue')"
   ]
  },
  {
   "cell_type": "markdown",
   "metadata": {},
   "source": [
    "As shown in the histogram, the majority of movies have low revenues, and only a few have high revenues.\n",
    "\n",
    "Now we will create a histogram for the movies' budgets."
   ]
  },
  {
   "cell_type": "code",
   "execution_count": 21,
   "metadata": {},
   "outputs": [
    {
     "data": {
      "text/plain": [
       "Text(0.5, 1.0, 'Distribution of Budget')"
      ]
     },
     "execution_count": 21,
     "metadata": {},
     "output_type": "execute_result"
    },
    {
     "data": {
      "image/png": "[encoded data removed]",
      "text/plain": [
       "<Figure size 432x288 with 1 Axes>"
      ]
     },
     "metadata": {
      "needs_background": "light"
     },
     "output_type": "display_data"
    }
   ],
   "source": [
    "plt.figure()\n",
    "display()\n",
    "n, bins, patches = plt.hist(df['budget'], log=True)\n",
    "plt.xlabel('Budget')\n",
    "plt.ylabel('Counts')\n",
    "plt.title('Distribution of Budget')"
   ]
  },
  {
   "cell_type": "markdown",
   "metadata": {},
   "source": [
    "Just like the revenues, most of the movies have low budgets. As shown in the histogram, as the budget increases, there are fewer movies.\n",
    "\n",
    "Now we will create a histogram that shows the counts for both revenue and budget to compare them to analyze their similarities and differences."
   ]
  },
  {
   "cell_type": "code",
   "execution_count": 22,
   "metadata": {},
   "outputs": [
    {
     "data": {
      "text/plain": [
       "<matplotlib.legend.Legend at 0x7f6016581f60>"
      ]
     },
     "execution_count": 22,
     "metadata": {},
     "output_type": "execute_result"
    },
    {
     "data": {
      "image/png": "[encoded data removed]",
      "text/plain": [
       "<Figure size 432x288 with 1 Axes>"
      ]
     },
     "metadata": {
      "needs_background": "light"
     },
     "output_type": "display_data"
    }
   ],
   "source": [
    "sort = df.sort_values('revenue', ascending=False )\n",
    "\n",
    "plt.figure()\n",
    "plt.hist(df['revenue'], label = 'Revenue') #blue\n",
    "plt.hist(df['budget'], label = 'Budget') #orange\n",
    "plt.xlabel('Revenue or Budget')\n",
    "plt.ylabel('Counts')\n",
    "plt.title('Revenue and Budget Distribution')\n",
    "plt.legend()"
   ]
  },
  {
   "cell_type": "markdown",
   "metadata": {},
   "source": [
    "It is clear that the revenue and budget have very similar trends, as their graphs are nearly identical. This demonstrates how there is a clear correlation between movies' revenues and budgets, and how the majority of movies have low budgets and therefore produce low revenues.\n",
    "\n",
    "To make the trend even more clear, we will create a scatterplot of revenue vs. budget."
   ]
  },
  {
   "cell_type": "code",
   "execution_count": 23,
   "metadata": {},
   "outputs": [
    {
     "data": {
      "text/plain": [
       "Text(0.5, 1.0, 'Revenue vs. Budget')"
      ]
     },
     "execution_count": 23,
     "metadata": {},
     "output_type": "execute_result"
    },
    {
     "data": {
      "image/png": "[encoded data removed]",
      "text/plain": [
       "<Figure size 432x288 with 1 Axes>"
      ]
     },
     "metadata": {
      "needs_background": "light"
     },
     "output_type": "display_data"
    }
   ],
   "source": [
    "plt.scatter(df['budget'], df['revenue'])\n",
    "plt.xlabel('Budget')\n",
    "plt.ylabel('Revenue')\n",
    "plt.title('Revenue vs. Budget')"
   ]
  },
  {
   "cell_type": "markdown",
   "metadata": {},
   "source": [
    "As shown in the scatterplot, there is a positive linear correlation between the revenue and budget. As the budget increases, the revenue increases as well. This shows how the budget plays a critical role in how much a movie ends up earning."
   ]
  },
  {
   "cell_type": "markdown",
   "metadata": {},
   "source": [
    "### Relationship Between Revenue and Vote Average"
   ]
  },
  {
   "cell_type": "markdown",
   "metadata": {},
   "source": [
    "We will create a scatterplot between revenue and vote average to see the relationship between these two variables."
   ]
  },
  {
   "cell_type": "code",
   "execution_count": 24,
   "metadata": {},
   "outputs": [
    {
     "data": {
      "text/plain": [
       "Text(0.5, 1.0, 'Revenue vs. Vote Average')"
      ]
     },
     "execution_count": 24,
     "metadata": {},
     "output_type": "execute_result"
    },
    {
     "data": {
      "image/png": "[encoded data removed]",
      "text/plain": [
       "<Figure size 432x288 with 1 Axes>"
      ]
     },
     "metadata": {
      "needs_background": "light"
     },
     "output_type": "display_data"
    }
   ],
   "source": [
    "plt.scatter(df['vote_average'], df['revenue'])\n",
    "plt.xlabel('Vote average')\n",
    "plt.ylabel('Revenue')\n",
    "plt.title('Revenue vs. Vote Average')"
   ]
  },
  {
   "cell_type": "markdown",
   "metadata": {},
   "source": [
    "This scatterplot has unexpected results, because there doesn't seem to be a clear relationship between vote average and revenue. Even though it would seem like a movie would have a higher vote average if it has more revenue, it appears that the vote average is not completely related to how much it ends up making. It seems like the majority of vote averages hovers in the 6-8 range regardless of a movie's budget.\n",
    "\n",
    "This information is good to know, because now we know that vote average does not play an important role in how much a movie makes."
   ]
  },
  {
   "cell_type": "markdown",
   "metadata": {},
   "source": [
    "### Relationship between Revenue and Popularity"
   ]
  },
  {
   "cell_type": "code",
   "execution_count": 25,
   "metadata": {},
   "outputs": [
    {
     "data": {
      "text/plain": [
       "Text(0.5, 1.0, 'Popularity vs. Vote Average')"
      ]
     },
     "execution_count": 25,
     "metadata": {},
     "output_type": "execute_result"
    },
    {
     "data": {
      "image/png": "[encoded data removed]",
      "text/plain": [
       "<Figure size 432x288 with 1 Axes>"
      ]
     },
     "metadata": {
      "needs_background": "light"
     },
     "output_type": "display_data"
    }
   ],
   "source": [
    "plt.scatter(df['popularity'], df['revenue'])\n",
    "plt.xlabel('Popularity')\n",
    "plt.ylabel('Revenue')\n",
    "plt.title('Popularity vs. Vote Average')"
   ]
  },
  {
   "cell_type": "markdown",
   "metadata": {},
   "source": [
    "We see that even though the correlation between revenue and popularity is high, there doesn't appear to be a strong relationship between the two values. It would be overfitting to use this variable in our ML algorithm, so we'll choose to not use the data for now."
   ]
  },
  {
   "cell_type": "markdown",
   "metadata": {},
   "source": [
    "### Relationship Between Revenue and Genre"
   ]
  },
  {
   "cell_type": "markdown",
   "metadata": {},
   "source": [
    "We will create a bar chart for the average revenue vs. genre, to see if there is a correlation between a movie's genre and how much movie they make.\n",
    "\n",
    "Before we create the chart, we have to find all of the unique genres in the data and then calculate the average revenue for each genre."
   ]
  },
  {
   "cell_type": "code",
   "execution_count": 26,
   "metadata": {},
   "outputs": [],
   "source": [
    "genre_revenue = {}\n",
    "genre_count = {}\n",
    "\n",
    "data = {'genre' : genres, 'revenue' : revenues}\n",
    "data = pd.DataFrame(data)\n",
    "\n",
    "#get the data\n",
    "for index, row in data.iterrows():\n",
    "    \n",
    "    cur_genre = row[\"genre\"]\n",
    "    cur_revenue = row[\"revenue\"]\n",
    "    \n",
    "    #if has seen the genre before\n",
    "    if cur_genre in genre_revenue:\n",
    "        genre_revenue[cur_genre] += cur_revenue\n",
    "        genre_count[cur_genre] += 1\n",
    "        \n",
    "    #if haven't seen the genre before    \n",
    "    else:\n",
    "        genre_revenue[cur_genre] = cur_revenue\n",
    "        genre_count[cur_genre] = 1\n",
    "        \n",
    "genre_avg_revenue = {}\n",
    "\n",
    "#calculate the average revenue for each genre\n",
    "for genre in genre_revenue.keys():\n",
    "    genre_avg_revenue[genre] = genre_revenue[genre] / genre_count[genre]"
   ]
  },
  {
   "cell_type": "markdown",
   "metadata": {},
   "source": [
    "Now that we've calculated the average revenue of movies for each genre, we can create the bar chart."
   ]
  },
  {
   "cell_type": "code",
   "execution_count": 27,
   "metadata": {},
   "outputs": [
    {
     "data": {
      "image/png": "[encoded data removed]",
      "text/plain": [
       "<Figure size 1600x640 with 1 Axes>"
      ]
     },
     "metadata": {},
     "output_type": "display_data"
    }
   ],
   "source": [
    "from matplotlib.pyplot import figure\n",
    "figure(num=None, figsize=(20, 8), dpi=80, facecolor='w', edgecolor='k')\n",
    "\n",
    "objects = genre_avg_revenue.keys()\n",
    "y_pos = np.arange(len(objects))\n",
    "performance = genre_avg_revenue.values()\n",
    "\n",
    "plt.bar(y_pos, performance, align='center', alpha=1)\n",
    "plt.xticks(y_pos, objects)\n",
    "plt.ylabel('Average Revenue')\n",
    "plt.title('Average Revenue vs. Genre')\n",
    "\n",
    "plt.show()"
   ]
  },
  {
   "cell_type": "markdown",
   "metadata": {},
   "source": [
    "Some of the observations we can get from the graph are that animation, adventure, and fantasy are the genres that have the highest average revenue per movie. The genres that have the lowest average revenue per movie are TV, foreign, and documentary.\n",
    "\n",
    "From this bar chart, it is clear that a movie's genre impacts how much revenue they end up earning, as shown by how certain genres earn much more than other genres."
   ]
  },
  {
   "cell_type": "markdown",
   "metadata": {},
   "source": [
    "### Relationship Between Revenue and Production Companies"
   ]
  },
  {
   "cell_type": "markdown",
   "metadata": {},
   "source": [
    "First we will create a histogram of how many movies production companies make."
   ]
  },
  {
   "cell_type": "code",
   "execution_count": 28,
   "metadata": {},
   "outputs": [
    {
     "data": {
      "text/plain": [
       "Text(0.5, 1.0, 'Movies Produced vs. Number of Production Companies')"
      ]
     },
     "execution_count": 28,
     "metadata": {},
     "output_type": "execute_result"
    },
    {
     "data": {
      "image/png": "[encoded data removed]",
      "text/plain": [
       "<Figure size 432x288 with 1 Axes>"
      ]
     },
     "metadata": {
      "needs_background": "light"
     },
     "output_type": "display_data"
    }
   ],
   "source": [
    "all_prod_comps = {}\n",
    "\n",
    "for index, row in df.iterrows():\n",
    "    prod_comps = row[\"production_companies\"]\n",
    "    \n",
    "    for p_c in prod_comps:\n",
    "        if p_c[\"name\"] in all_prod_comps:\n",
    "            all_prod_comps[p_c[\"name\"]] += 1\n",
    "        else:\n",
    "            all_prod_comps[p_c[\"name\"]] = 1\n",
    "        \n",
    "all_prod_comps\n",
    "reduced = dict( (key, value) for (key, value) in all_prod_comps.items() if value >= 10 )\n",
    "n, bins, patches = plt.hist(reduced.values())\n",
    "plt.xlabel('Number of Production Companies')\n",
    "plt.ylabel('Movies Produced')\n",
    "plt.title('Movies Produced vs. Number of Production Companies')"
   ]
  },
  {
   "cell_type": "markdown",
   "metadata": {},
   "source": [
    "As shown in the graph, there are only a few production companies that produce many movies, while the majority of companies only produce a small number of movies. "
   ]
  },
  {
   "cell_type": "markdown",
   "metadata": {},
   "source": [
    "Now we will create a bar plot to find the relationship between average revenue and the number of movies a production company has produced."
   ]
  },
  {
   "cell_type": "code",
   "execution_count": 29,
   "metadata": {},
   "outputs": [
    {
     "name": "stderr",
     "output_type": "stream",
     "text": [
      "/opt/conda/lib/python3.7/site-packages/numpy/core/fromnumeric.py:3257: RuntimeWarning: Mean of empty slice.\n",
      "  out=out, **kwargs)\n",
      "/opt/conda/lib/python3.7/site-packages/numpy/core/_methods.py:161: RuntimeWarning: invalid value encountered in double_scalars\n",
      "  ret = ret.dtype.type(ret / rcount)\n"
     ]
    },
    {
     "data": {
      "text/plain": [
       "Text(0.5, 1.0, 'Average Revenue vs. Number of Movies A Production Company Produced')"
      ]
     },
     "execution_count": 29,
     "metadata": {},
     "output_type": "execute_result"
    },
    {
     "data": {
      "image/png": "[encoded data removed]",
      "text/plain": [
       "<Figure size 432x288 with 1 Axes>"
      ]
     },
     "metadata": {
      "needs_background": "light"
     },
     "output_type": "display_data"
    }
   ],
   "source": [
    "x = []\n",
    "y = []\n",
    "for i in range(len(bins) - 1):\n",
    "    start = bins[i]\n",
    "    end = bins[i+1]\n",
    "    x.append(start)\n",
    "    reduced = list(  value for (key, value) in all_prod_comps.items() if value >= start and value < end )\n",
    "    y.append(np.mean(reduced))\n",
    "\n",
    "plt.figure()\n",
    "plt.bar(x,y, width=15)\n",
    "plt.xlabel('Number of Movies A Production Company Produced')\n",
    "plt.ylabel('Average Revenue')\n",
    "plt.title('Average Revenue vs. Number of Movies A Production Company Produced')"
   ]
  },
  {
   "cell_type": "markdown",
   "metadata": {},
   "source": [
    "From this graph, it is clear that if a movie is produced by a production company that has made many movies in the past, it will have a higher average revenue. This shows that a movie's production company/companies will impact its revenue."
   ]
  },
  {
   "cell_type": "markdown",
   "metadata": {},
   "source": [
    "Now lets analyze our data!"
   ]
  },
  {
   "cell_type": "markdown",
   "metadata": {},
   "source": [
    "## 3.0 - Analysis"
   ]
  },
  {
   "cell_type": "markdown",
   "metadata": {},
   "source": [
    "### Regression with sklearn"
   ]
  },
  {
   "cell_type": "code",
   "execution_count": 30,
   "metadata": {},
   "outputs": [],
   "source": [
    "from sklearn.linear_model import LinearRegression\n",
    "\n",
    "feature_list = ['budget', 'popularity' , 'vote_count']\n",
    "X = []\n",
    "Y = []\n",
    "\n",
    "\n",
    "dt = df.dropna()\n",
    "for index, row in dt.iterrows():\n",
    "    X.append([row[\"budget\"], row[\"popularity\"], row[\"vote_count\"]])\n",
    "    Y.append(row[\"revenue\"])"
   ]
  },
  {
   "cell_type": "code",
   "execution_count": 31,
   "metadata": {},
   "outputs": [
    {
     "data": {
      "text/plain": [
       "[1.9304871382177264, 172832.0503461979, 70392.81365118944]"
      ]
     },
     "metadata": {},
     "output_type": "display_data"
    },
    {
     "data": {
      "image/png": "[encoded data removed]",
      "text/plain": [
       "<Figure size 504x360 with 1 Axes>"
      ]
     },
     "metadata": {
      "needs_background": "light"
     },
     "output_type": "display_data"
    }
   ],
   "source": [
    "from sklearn.datasets import make_classification\n",
    "\n",
    "X_train, X_test, Y_train, Y_test = model_selection.train_test_split(X, Y, test_size=0.2)\n",
    "\n",
    "lm = linear_model.LinearRegression()\n",
    "model = lm.fit(X_train,Y_train)\n",
    "\n",
    "c = lm.coef_.tolist()\n",
    "display(c)\n",
    "\n",
    "pred = lm.predict(X_test)\n",
    "\n",
    "plt.figure(figsize=(7,5))\n",
    "plt.title(\"Predicted vs. Actual Revenue\", fontsize=16)\n",
    "plt.scatter(Y_test,pred)\n",
    "plt.plot(Y_test, Y_test, color = \"Red\") \n",
    "plt.xlabel(\"Actual Revenue\")\n",
    "plt.ylabel(\"Predicted Revenue\")\n",
    "plt.show()"
   ]
  },
  {
   "cell_type": "markdown",
   "metadata": {},
   "source": [
    "### Predictions Using Random Forests"
   ]
  },
  {
   "cell_type": "code",
   "execution_count": 33,
   "metadata": {},
   "outputs": [
    {
     "data": {
      "image/png": "[encoded data removed]",
      "text/plain": [
       "<Figure size 504x360 with 1 Axes>"
      ]
     },
     "metadata": {
      "needs_background": "light"
     },
     "output_type": "display_data"
    }
   ],
   "source": [
    "from sklearn.ensemble import RandomForestRegressor\n",
    "\n",
    "clf = RandomForestRegressor(100)\n",
    "\n",
    "model = clf.fit(X_train, Y_train)\n",
    "\n",
    "pred = clf.predict(X_test)\n",
    "\n",
    "plt.figure(figsize=(7,5))\n",
    "plt.title(\"Predicted vs. Actual Revenue\", fontsize=16)\n",
    "plt.scatter(Y_test,pred)\n",
    "plt.plot(Y_test, Y_test, color = \"Red\") \n",
    "plt.xlabel(\"Actual Revenue\")\n",
    "plt.ylabel(\"Predicted Revenue\")\n",
    "plt.show()"
   ]
  },
  {
   "cell_type": "code",
   "execution_count": null,
   "metadata": {},
   "outputs": [],
   "source": [
    "classifiers = {'Linear Regression' : linreg, 'Support Vector Regression' : svr}\n",
    "\n",
    "n = target.shape[0]\n",
    "error = []\n",
    "i = 0\n",
    "for name,regressor in classifiers.items():\n",
    "    score = model_selection.cross_val_score(regressor, data, targ, cv=10, scoring='neg_mean_squared_error')\n",
    "    error.append(-score)\n",
    "    stderror = error[i] / np.sqrt(n)\n",
    "    print(\"{} error: {}, stderror: {}\".format(name, error[i], stderror[i]))\n",
    "    i = i + 1\n",
    "    \n",
    "# H_0 is that error of linear > error of svr\n",
    "diff = error[0] - error[1]\n",
    "diffBar = np.mean(diff)\n",
    "sdDiff = np.sqrt(np.sum(np.square(diff - diffBar)) / 9)\n",
    "seDiff = sdDiff / np.sqrt(n)\n",
    "t = diffBar / seDiff\n",
    "pval = stats.t.sf(t, 9)\n",
    "\n",
    "print(\"Null Hypothesis: LR_Error = SVR_Error\\nAlternative Hypothesis: LR_Error > SVR_Error\")\n",
    "print(\"Mean Difference: {}, Test statistic t: {}, P-Val: {}\".format(diffBar, t, pval))"
   ]
  },
  {
   "cell_type": "markdown",
   "metadata": {},
   "source": [
    "1) Multiple linear regression!\n",
    "\n",
    "\n",
    "* Dependent variable: Revenue\n",
    "* Independent variables: Budget, genre, production companies, popularity, runtime\n",
    "\n",
    "2) Hypothesis testing (statistically significant dimensions?)\n",
    " \n",
    "\n",
    "3) Predicting stuff with machine learning / Try Nonlinear (Fine-tune it)\n",
    "\n",
    "4) Cross validation + paired T tests\n",
    "\n",
    "Ideas:\n",
    "\n",
    "Linear regression (games example)\n",
    "\n",
    "List all possible variables, eliminate ones that aren't important, create a new table, more exploration, multiple linear regression, prediction with machine learning, hypothesis testing (football example)\n",
    "\n",
    "Hypothesizing data and finding how much more faculty UMD should add (UMD cs faculty example)"
   ]
  },
  {
   "cell_type": "markdown",
   "metadata": {},
   "source": [
    "## Insights"
   ]
  },
  {
   "cell_type": "markdown",
   "metadata": {},
   "source": [
    "Other notes:\n",
    "\n",
    "Can add pictures to make the tutorial look more interesting\n",
    "\n",
    "Add more english explanation stuff\n",
    "\n",
    "Can add heat map for the correlation table"
   ]
  }
 ],
 "metadata": {
  "kernelspec": {
   "display_name": "Python 3",
   "language": "python",
   "name": "python3"
  },
  "language_info": {
   "codemirror_mode": {
    "name": "ipython",
    "version": 3
   },
   "file_extension": ".py",
   "mimetype": "text/x-python",
   "name": "python",
   "nbconvert_exporter": "python",
   "pygments_lexer": "ipython3",
   "version": "3.7.3"
  }
 },
 "nbformat": 4,
 "nbformat_minor": 2
}
